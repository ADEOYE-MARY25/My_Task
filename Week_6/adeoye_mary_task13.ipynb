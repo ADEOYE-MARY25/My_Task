{
 "cells": [
  {
   "cell_type": "code",
   "execution_count": 1,
   "id": "6660ceea",
   "metadata": {},
   "outputs": [
    {
     "name": "stdout",
     "output_type": "stream",
     "text": [
      "[[17  1 10 40  3 14]\n",
      " [10  2 16 26  1  1]\n",
      " [39 19 13 48 33 18]\n",
      " [22 35 18 38 18 21]\n",
      " [22  3 29 30 46 25]\n",
      " [25 46 16 36  0  8]]\n"
     ]
    }
   ],
   "source": [
    "import numpy as np\n",
    "#1. create a 6x6 Numpy array with integers between 1 and 50\n",
    "arrays_num = np.random.randint(50, size=(6,6))\n",
    "print(arrays_num)"
   ]
  },
  {
   "cell_type": "code",
   "execution_count": 2,
   "id": "b71b38b8",
   "metadata": {},
   "outputs": [
    {
     "name": "stdout",
     "output_type": "stream",
     "text": [
      "first_two_rows; [[17  1 10 40  3 14]\n",
      " [10  2 16 26  1  1]]\n",
      "last_three_column: [[40  3 14]\n",
      " [26  1  1]\n",
      " [48 33 18]\n",
      " [38 18 21]\n",
      " [30 46 25]\n",
      " [36  0  8]] \n",
      "[10 40 14 10  2 16 26 48 18 22 18 38 18 22 30 46 46 16 36  0  8]\n"
     ]
    }
   ],
   "source": [
    "#2. Extract the following from the array you created in Question 1: \n",
    "# The first two rows.The last three columns.\n",
    "# All even numbers in the array\n",
    "\n",
    "first_two_rows = arrays_num [0:2,0:6]\n",
    "print(f\"first_two_rows; {first_two_rows}\")\n",
    "\n",
    "last_three_columns = arrays_num[0:6,3:6]\n",
    "print(f\"last_three_column: {last_three_columns} \")\n",
    "\n",
    "even_num = arrays_num[arrays_num % 2 ==0 ]\n",
    "print(even_num)"
   ]
  },
  {
   "cell_type": "code",
   "execution_count": 3,
   "id": "a3f6f899",
   "metadata": {},
   "outputs": [
    {
     "name": "stdout",
     "output_type": "stream",
     "text": [
      "Reshaped to 3x2x6:\n",
      " [array([[[17,  1, 10, 40,  3, 14],\n",
      "        [10,  2, 16, 26,  1,  1]],\n",
      "\n",
      "       [[39, 19, 13, 48, 33, 18],\n",
      "        [22, 35, 18, 38, 18, 21]],\n",
      "\n",
      "       [[22,  3, 29, 30, 46, 25],\n",
      "        [25, 46, 16, 36,  0,  8]]], dtype=int32)]\n",
      "flattened(copy): [17  1 10 40  3 14 10  2 16 26  1  1 39 19 13 48 33 18 22 35 18 38 18 21\n",
      " 22  3 29 30 46 25 25 46 16 36  0  8]\n"
     ]
    }
   ],
   "source": [
    "# 3. Perform the following array transformations:\n",
    "# Reshape the array into 3D (3, 2, 6)\n",
    "reshaped_3d= arrays_num.reshape(3, 2,6)\n",
    "print(f\"Reshaped to 3x2x6:\\n\", [reshaped_3d])\n",
    "\n",
    "# Flattened the reshape array back to 1D\n",
    "flattened= arrays_num.flatten()\n",
    "print(f\"flattened(copy):\", flattened)\n"
   ]
  },
  {
   "cell_type": "code",
   "execution_count": 4,
   "id": "b76af669",
   "metadata": {},
   "outputs": [
    {
     "name": "stdout",
     "output_type": "stream",
     "text": [
      "[[1. 0. 0. 0.]\n",
      " [0. 1. 0. 0.]\n",
      " [0. 0. 1. 0.]\n",
      " [0. 0. 0. 1.]]\n",
      "\n",
      " [[10.  0.  0.  0.]\n",
      " [ 0. 20.  0.  0.]\n",
      " [ 0.  0. 30.  0.]\n",
      " [ 0.  0.  0. 40.]]\n"
     ]
    }
   ],
   "source": [
    "# 4. diagonal identification of matrix and replacing  the diagonal with numbers from 10 to 40\n",
    "\n",
    "matrix_identity= np.eye(4)\n",
    "print(matrix_identity)\n",
    "number= np.array([10, 20, 30, 40])\n",
    "np.fill_diagonal(matrix_identity, number)\n",
    "print(\"\\n\", matrix_identity)"
   ]
  },
  {
   "cell_type": "code",
   "execution_count": 5,
   "id": "9cba2e57",
   "metadata": {},
   "outputs": [
    {
     "name": "stdout",
     "output_type": "stream",
     "text": [
      "[[ 4  5  2  9]\n",
      " [ 7  1  1  1]\n",
      " [ 2  1 10 10]]\n",
      "[[ 6  3 10]\n",
      " [ 7  9  6]\n",
      " [ 3  6  2]\n",
      " [ 5  8 10]]\n",
      "[[110 141 164]\n",
      " [ 57  44  88]\n",
      " [ 99 155 146]]\n"
     ]
    }
   ],
   "source": [
    "# 5. perform matrix multiplication between: A 3x4 matrix of random integers(1-10) A 4x3 matrix of random integers (1-10)\\n\"\n",
    "matrix_3x4= np.random.randint(1, 11,  size=(3, 4)) \n",
    "print(matrix_3x4)\n",
    "matrix_4x3= np.random.randint(1,11, size=(4,3))\n",
    "print(matrix_4x3)\n",
    "outcome= np.dot(matrix_3x4, matrix_4x3)\n",
    "print(outcome)"
   ]
  },
  {
   "cell_type": "code",
   "execution_count": 6,
   "id": "1825138f",
   "metadata": {},
   "outputs": [
    {
     "name": "stdout",
     "output_type": "stream",
     "text": [
      "[[  -1   -1  100 1600   -1  196]\n",
      " [ 100    4  256  676   -1   -1]\n",
      " [  -1   -1   -1 2304   -1  324]\n",
      " [ 484   -1  324 1444  324   -1]\n",
      " [ 484   -1   -1  900 2116   -1]\n",
      " [  -1 2116  256 1296    0   64]]\n"
     ]
    }
   ],
   "source": [
    "# 6. create a function that takes a 2D Numpy array as input and returns a new array where: All even numbers are squared.\n",
    "# All odd numbers are replaced by -1\n",
    "def generatte_array(arrays_num):\n",
    "    arrays_num= np.where(arrays_num% 2 == 0,arrays_num**2, -1)\n",
    "    print(f\"{arrays_num}\")\n",
    "generatte_array(arrays_num)    \n"
   ]
  }
 ],
 "metadata": {
  "kernelspec": {
   "display_name": "Python 3",
   "language": "python",
   "name": "python3"
  },
  "language_info": {
   "codemirror_mode": {
    "name": "ipython",
    "version": 3
   },
   "file_extension": ".py",
   "mimetype": "text/x-python",
   "name": "python",
   "nbconvert_exporter": "python",
   "pygments_lexer": "ipython3",
   "version": "3.13.7"
  }
 },
 "nbformat": 4,
 "nbformat_minor": 5
}
