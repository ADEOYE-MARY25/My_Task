{
 "cells": [
  {
   "cell_type": "code",
   "execution_count": 1,
   "id": "6660ceea",
   "metadata": {},
   "outputs": [
    {
     "name": "stdout",
     "output_type": "stream",
     "text": [
      "[[14  5 39 42 42 43]\n",
      " [ 1  5 25 15 11  8]\n",
      " [40  5 41 33 44 49]\n",
      " [27 46  6 27 33 25]\n",
      " [22 34 23  8 22 30]\n",
      " [28 26 29 24 16  5]]\n"
     ]
    }
   ],
   "source": [
    "import numpy as np\n",
    "#1. create a 6x6 Numpy array with integers between 1 and 50\n",
    "arrays_num = np.random.randint(50, size=(6,6))\n",
    "print(arrays_num)"
   ]
  },
  {
   "cell_type": "code",
   "execution_count": 2,
   "id": "b71b38b8",
   "metadata": {},
   "outputs": [
    {
     "name": "stdout",
     "output_type": "stream",
     "text": [
      "first_two_rows; [[14  5 39 42 42 43]\n",
      " [ 1  5 25 15 11  8]]\n",
      "last_three_column: [[42 42 43]\n",
      " [15 11  8]\n",
      " [33 44 49]\n",
      " [27 33 25]\n",
      " [ 8 22 30]\n",
      " [24 16  5]] \n",
      "[14 42 42  8 40 44 46  6 22 34  8 22 30 28 26 24 16]\n"
     ]
    }
   ],
   "source": [
    "#2. Extract the following from the array you created in Question 1: \n",
    "# The first two rows.The last three columns.\n",
    "# All even numbers in the array\n",
    "\n",
    "first_two_rows = arrays_num [0:2,0:6]\n",
    "print(f\"first_two_rows; {first_two_rows}\")\n",
    "\n",
    "last_three_columns = arrays_num[0:6,3:6]\n",
    "print(f\"last_three_column: {last_three_columns} \")\n",
    "\n",
    "even_num = arrays_num[arrays_num % 2 ==0 ]\n",
    "print(even_num)"
   ]
  },
  {
   "cell_type": "code",
   "execution_count": 3,
   "id": "a3f6f899",
   "metadata": {},
   "outputs": [
    {
     "name": "stdout",
     "output_type": "stream",
     "text": [
      "Reshaped to 3x2x6:\n",
      " [array([[[14,  5, 39, 42, 42, 43],\n",
      "        [ 1,  5, 25, 15, 11,  8]],\n",
      "\n",
      "       [[40,  5, 41, 33, 44, 49],\n",
      "        [27, 46,  6, 27, 33, 25]],\n",
      "\n",
      "       [[22, 34, 23,  8, 22, 30],\n",
      "        [28, 26, 29, 24, 16,  5]]], dtype=int32)]\n",
      "flattened(copy): [14  5 39 42 42 43  1  5 25 15 11  8 40  5 41 33 44 49 27 46  6 27 33 25\n",
      " 22 34 23  8 22 30 28 26 29 24 16  5]\n"
     ]
    }
   ],
   "source": [
    "# 3. Perform the following array transformations:\n",
    "# Reshape the array into 3D (3, 2, 6)\n",
    "reshaped_3d= arrays_num.reshape(3, 2,6)\n",
    "print(f\"Reshaped to 3x2x6:\\n\", [reshaped_3d])\n",
    "\n",
    "# Flattened the reshape array back to 1D\n",
    "flattened= arrays_num.flatten()\n",
    "print(f\"flattened(copy):\", flattened)\n"
   ]
  },
  {
   "cell_type": "code",
   "execution_count": null,
   "id": "b76af669",
   "metadata": {},
   "outputs": [
    {
     "name": "stdout",
     "output_type": "stream",
     "text": [
      "[[1. 0. 0. 0.]\n",
      " [0. 1. 0. 0.]\n",
      " [0. 0. 1. 0.]\n",
      " [0. 0. 0. 1.]]\n",
      "\n",
      " [[10.  0.  0.  0.]\n",
      " [ 0. 20.  0.  0.]\n",
      " [ 0.  0. 30.  0.]\n",
      " [ 0.  0.  0. 40.]]\n",
      "[[10  0  0  0]\n",
      " [ 0 20  0  0]\n",
      " [ 0  0 30  0]\n",
      " [ 0  0  0 40]]\n"
     ]
    }
   ],
   "source": [
    "# 4. diagonal identification of matrix and replacing  the diagonal with numbers from 10 to 40\n",
    "\n",
    "matrix_identity= np.eye(4)\n",
    "print(matrix_identity)\n",
    "number= np.array([10, 20, 30, 40])\n",
    "np.fill_diagonal(matrix_identity, number)\n",
    "print(\"\\n\", matrix_identity)\n",
    "\n",
    "# Or\n",
    "dia=np.diag([10, 20, 30, 40])\n",
    "print(dia)"
   ]
  },
  {
   "cell_type": "code",
   "execution_count": 5,
   "id": "9cba2e57",
   "metadata": {},
   "outputs": [
    {
     "name": "stdout",
     "output_type": "stream",
     "text": [
      "[[ 6  5 10  7]\n",
      " [ 2  5  6  9]\n",
      " [ 2  5 10  5]]\n",
      "[[ 9  3  7]\n",
      " [ 8  1  2]\n",
      " [ 8  4  4]\n",
      " [ 1  2 10]]\n",
      "[[181  77 162]\n",
      " [115  53 138]\n",
      " [143  61 114]]\n"
     ]
    }
   ],
   "source": [
    "# 5. perform matrix multiplication between: A 3x4 matrix of random integers(1-10) A 4x3 matrix of random integers (1-10)\\n\"\n",
    "matrix_3x4= np.random.randint(1, 11,  size=(3, 4)) \n",
    "print(matrix_3x4)\n",
    "matrix_4x3= np.random.randint(1,11, size=(4,3))\n",
    "print(matrix_4x3)\n",
    "outcome= np.dot(matrix_3x4, matrix_4x3)\n",
    "print(outcome)"
   ]
  },
  {
   "cell_type": "code",
   "execution_count": 6,
   "id": "1825138f",
   "metadata": {},
   "outputs": [
    {
     "name": "stdout",
     "output_type": "stream",
     "text": [
      "[[ 196   -1   -1 1764 1764   -1]\n",
      " [  -1   -1   -1   -1   -1   64]\n",
      " [1600   -1   -1   -1 1936   -1]\n",
      " [  -1 2116   36   -1   -1   -1]\n",
      " [ 484 1156   -1   64  484  900]\n",
      " [ 784  676   -1  576  256   -1]]\n"
     ]
    }
   ],
   "source": [
    "# 6. create a function that takes a 2D Numpy array as input and returns a new array where: All even numbers are squared.\n",
    "# All odd numbers are replaced by -1\n",
    "def generatte_array(arrays_num):\n",
    "    arrays_num= np.where(arrays_num% 2 == 0,arrays_num**2, -1)\n",
    "    print(f\"{arrays_num}\")\n",
    "generatte_array(arrays_num)    \n"
   ]
  }
 ],
 "metadata": {
  "kernelspec": {
   "display_name": "Python 3",
   "language": "python",
   "name": "python3"
  },
  "language_info": {
   "codemirror_mode": {
    "name": "ipython",
    "version": 3
   },
   "file_extension": ".py",
   "mimetype": "text/x-python",
   "name": "python",
   "nbconvert_exporter": "python",
   "pygments_lexer": "ipython3",
   "version": "3.13.7"
  }
 },
 "nbformat": 4,
 "nbformat_minor": 5
}
