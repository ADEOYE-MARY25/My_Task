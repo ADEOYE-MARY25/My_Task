{
 "cells": [
  {
   "cell_type": "code",
   "execution_count": 5,
   "id": "6660ceea",
   "metadata": {},
   "outputs": [
    {
     "name": "stdout",
     "output_type": "stream",
     "text": [
      "[[ 6 32 39  6  1  0]\n",
      " [44 41 11  9 37 45]\n",
      " [45  6 47 46 33 35]\n",
      " [37 38 34 28 12  1]\n",
      " [37 29 18 39 39 14]\n",
      " [43 13 48 39 48  0]]\n"
     ]
    }
   ],
   "source": [
    "import numpy as np\n",
    "#1. create a 6x6 Numpy array with integers between 1 and 50\n",
    "arrays_num = np.random.randint(50, size=(6,6))\n",
    "print(arrays_num)"
   ]
  },
  {
   "cell_type": "code",
   "execution_count": null,
   "id": "b71b38b8",
   "metadata": {},
   "outputs": [
    {
     "name": "stdout",
     "output_type": "stream",
     "text": [
      "first_row:\n",
      "[[ 6 32 39  6  1  0]\n",
      " [44 41 11  9 37 45]]\n",
      "second_row; [[ 6 32 39  6  1  0]\n",
      " [44 41 11  9 37 45]\n",
      " [45  6 47 46 33 35]]\n",
      "[ 6 32  6  0 44  6 46 38 34 28 12 18 14 48 48  0]\n"
     ]
    }
   ],
   "source": [
    "#2. Extract the following from the array you created in Question 1: \n",
    "# The first two rows.The last three columns.\n",
    "# All even numbers in the array.\n",
    "\n",
    "first_row=arrays_num[0:2, :]\n",
    "print(f\"first_row:\\n{first_row}\")\n",
    "second_col= arrays_num[:-3, :]\n",
    "print(f\"second_row; {second_col}\")\n",
    "even_num = arrays_num[arrays_num % 2 ==0 ]\n",
    "print(even_num)"
   ]
  }
 ],
 "metadata": {
  "kernelspec": {
   "display_name": "Python 3",
   "language": "python",
   "name": "python3"
  },
  "language_info": {
   "codemirror_mode": {
    "name": "ipython",
    "version": 3
   },
   "file_extension": ".py",
   "mimetype": "text/x-python",
   "name": "python",
   "nbconvert_exporter": "python",
   "pygments_lexer": "ipython3",
   "version": "3.13.7"
  }
 },
 "nbformat": 4,
 "nbformat_minor": 5
}
