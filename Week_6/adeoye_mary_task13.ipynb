{
 "cells": [
  {
   "cell_type": "code",
   "execution_count": 1,
   "id": "6660ceea",
   "metadata": {},
   "outputs": [
    {
     "name": "stdout",
     "output_type": "stream",
     "text": [
      "[[ 2 34 26 49 22 43]\n",
      " [29 18 23 29 28 32]\n",
      " [ 4  4 15 16 29  5]\n",
      " [ 4  6 21  0 46 22]\n",
      " [ 9 36 45 17 26  6]\n",
      " [41 15 16  4 49  8]]\n"
     ]
    }
   ],
   "source": [
    "import numpy as np\n",
    "#1. create a 6x6 Numpy array with integers between 1 and 50\n",
    "arrays_num = np.random.randint(50, size=(6,6))\n",
    "print(arrays_num)"
   ]
  },
  {
   "cell_type": "code",
   "execution_count": 59,
   "id": "b71b38b8",
   "metadata": {},
   "outputs": [
    {
     "name": "stdout",
     "output_type": "stream",
     "text": [
      "first_two_rows; [[10 24 28 28 41 39]\n",
      " [22 33 37 49 21 28]]\n",
      "last_three_column: [[28 41 39]\n",
      " [49 21 28]\n",
      " [20 16 36]\n",
      " [11  2 23]\n",
      " [22 17 47]\n",
      " [19 20 33]] \n",
      "[10 24 28 28 22 28 26 36 20 16 36  4  2 22 22 12  2 20]\n"
     ]
    }
   ],
   "source": [
    "#2. Extract the following from the array you created in Question 1: \n",
    "# The first two rows.The last three columns.\n",
    "# All even numbers in the array\n",
    "\n",
    "first_two_rows = arrays_num [0:2,0:6]\n",
    "print(f\"first_two_rows; {first_two_rows}\")\n",
    "\n",
    "last_three_columns = arrays_num[0:6,3:6]\n",
    "print(f\"last_three_column: {last_three_columns} \")\n",
    "\n",
    "even_num = arrays_num[arrays_num % 2 ==0 ]\n",
    "print(even_num)"
   ]
  },
  {
   "cell_type": "code",
   "execution_count": 60,
   "id": "a3f6f899",
   "metadata": {},
   "outputs": [
    {
     "name": "stdout",
     "output_type": "stream",
     "text": [
      "Reshaped to 3x2x6;\n",
      " [array([[[10, 24, 28, 28, 41, 39],\n",
      "        [22, 33, 37, 49, 21, 28]],\n",
      "\n",
      "       [[25, 26, 36, 20, 16, 36],\n",
      "        [ 4, 33, 31, 11,  2, 23]],\n",
      "\n",
      "       [[25, 39, 22, 22, 17, 47],\n",
      "        [43, 12,  2, 19, 20, 33]]], dtype=int32)]\n",
      "flattened(copy): [10 24 28 28 41 39 22 33 37 49 21 28 25 26 36 20 16 36  4 33 31 11  2 23\n",
      " 25 39 22 22 17 47 43 12  2 19 20 33]\n"
     ]
    }
   ],
   "source": [
    "# 3. Perform the following array transformations:\n",
    "# Reshape the array into 3D (3, 2, 6)\n",
    "reshaped_3d= arrays_num.reshape(3, 2,6)\n",
    "print(f\"Reshaped to 3x2x6;\\n\", [reshaped_3d])\n",
    "\n",
    "# Flattened the reshape array back to 1D\n",
    "flattened= arrays_num.flatten()\n",
    "print(f\"flattened(copy):\", flattened)\n"
   ]
  },
  {
   "cell_type": "code",
   "execution_count": 61,
   "id": "b76af669",
   "metadata": {},
   "outputs": [
    {
     "name": "stdout",
     "output_type": "stream",
     "text": [
      "[[1. 0. 0. 0.]\n",
      " [0. 1. 0. 0.]\n",
      " [0. 0. 1. 0.]\n",
      " [0. 0. 0. 1.]]\n",
      "\n",
      " [[10.  0.  0.  0.]\n",
      " [ 0. 20.  0.  0.]\n",
      " [ 0.  0. 30.  0.]\n",
      " [ 0.  0.  0. 40.]]\n"
     ]
    }
   ],
   "source": [
    "# 4. diagonal identification of matrix and replacing  the diagonal with numbers from 10 to 40\n",
    "\n",
    "matrix_identity= np.eye(4)\n",
    "print(matrix_identity)\n",
    "number= np.array([10, 20, 30, 40])\n",
    "np.fill_diagonal(matrix_identity, number)\n",
    "print(\"\\n\", matrix_identity)"
   ]
  },
  {
   "cell_type": "code",
   "execution_count": 62,
   "id": "9cba2e57",
   "metadata": {},
   "outputs": [
    {
     "name": "stdout",
     "output_type": "stream",
     "text": [
      "[[ 3 10  4  4]\n",
      " [ 3  3  2  5]\n",
      " [ 4  9  1  5]]\n",
      "[[ 4 10  3]\n",
      " [ 7 10  7]\n",
      " [10  6 10]\n",
      " [ 7  8  9]]\n",
      "[[150 186 155]\n",
      " [ 88 112  95]\n",
      " [124 176 130]]\n"
     ]
    }
   ],
   "source": [
    "# 5. perform matrix multiplication between: A 3x4 matrix of random integers(1-10) A 4x3 matrix of random integers (1-10)\\n\"\n",
    "matrix_3x4= np.random.randint(1, 11,  size=(3, 4)) \n",
    "print(matrix_3x4)\n",
    "matrix_4x3= np.random.randint(1,11, size=(4,3))\n",
    "print(matrix_4x3)\n",
    "outcome= np.dot(matrix_3x4, matrix_4x3)\n",
    "print(outcome)"
   ]
  },
  {
   "cell_type": "code",
   "execution_count": 79,
   "id": "1825138f",
   "metadata": {},
   "outputs": [
    {
     "name": "stdout",
     "output_type": "stream",
     "text": [
      "[[ 100  576  784  784   -1   -1]\n",
      " [ 484   -1   -1   -1   -1  784]\n",
      " [  -1  676 1296  400  256 1296]\n",
      " [  16   -1   -1   -1    4   -1]\n",
      " [  -1   -1  484  484   -1   -1]\n",
      " [  -1  144    4   -1  400   -1]]\n"
     ]
    }
   ],
   "source": [
    "# 6. create a function that takes a 2D Numpy array as input and returns a new array where: All even numbers are squared.\n",
    "# All odd numbers are replaced by -1\n",
    "def generatte_array(arrays_num):\n",
    "    arrays_num= np.where(arrays_num% 2 == 0,arrays_num**2, -1)\n",
    "    print(f\"{arrays_num}\")\n",
    "generatte_array(arrays_num)    \n"
   ]
  }
 ],
 "metadata": {
  "kernelspec": {
   "display_name": "Python 3",
   "language": "python",
   "name": "python3"
  },
  "language_info": {
   "codemirror_mode": {
    "name": "ipython",
    "version": 3
   },
   "file_extension": ".py",
   "mimetype": "text/x-python",
   "name": "python",
   "nbconvert_exporter": "python",
   "pygments_lexer": "ipython3",
   "version": "3.13.7"
  }
 },
 "nbformat": 4,
 "nbformat_minor": 5
}
