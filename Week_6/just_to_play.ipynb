{
 "cells": [
  {
   "cell_type": "code",
   "execution_count": 22,
   "id": "19ffe872",
   "metadata": {},
   "outputs": [],
   "source": [
    "import numpy as np\n",
    "\n"
   ]
  },
  {
   "cell_type": "code",
   "execution_count": 23,
   "id": "a413d1b7",
   "metadata": {},
   "outputs": [
    {
     "name": "stdout",
     "output_type": "stream",
     "text": [
      "[[1. 0. 0. 0.]\n",
      " [0. 1. 0. 0.]\n",
      " [0. 0. 1. 0.]\n",
      " [0. 0. 0. 1.]]\n",
      "[[10.  0.  0.  0.]\n",
      " [ 0. 20.  0.  0.]\n",
      " [ 0.  0. 30.  0.]\n",
      " [ 0.  0.  0. 40.]]\n"
     ]
    }
   ],
   "source": [
    "matrix_identity= np.eye(4)\n",
    "print(matrix_identity)\n",
    "number=np.array([10, 20, 30, 40])\n",
    "np.fill_diagonal(matrix_identity, number)\n",
    "print(matrix_identity)"
   ]
  },
  {
   "cell_type": "code",
   "execution_count": 24,
   "id": "bdfa6ae7",
   "metadata": {},
   "outputs": [
    {
     "name": "stdout",
     "output_type": "stream",
     "text": [
      "[[3 3 3 4]\n",
      " [9 4 8 7]\n",
      " [9 9 9 2]]\n",
      "[[ 9  3 10]\n",
      " [ 2 10  1]\n",
      " [ 9  6  2]\n",
      " [ 3  6  6]]\n",
      "[[144 129 141  77]\n",
      " [105  55  95  80]\n",
      " [ 99  69  93  82]\n",
      " [117  87 111  66]]\n"
     ]
    }
   ],
   "source": [
    "matrix_3x4= np.random.randint(1, 11,  size=(3,4))\n",
    "print(matrix_3x4)\n",
    "matrix_4x3= np.random.randint(1, 11, size=(4,3))\n",
    "print(matrix_4x3)\n",
    "outcome=np.dot(matrix_4x3, matrix_3x4)\n",
    "print(outcome)"
   ]
  },
  {
   "cell_type": "code",
   "execution_count": null,
   "id": "f886aa59",
   "metadata": {},
   "outputs": [],
   "source": [
    "def generatte_array(array_nums):\n",
    "    array_nums= np.where(array_nums% 2 == 0,array_nums**2, -1 )\n",
    "    print(f\"{array_nums}\")\n",
    "generatte_array(array_nums)   "
   ]
  },
  {
   "cell_type": "code",
   "execution_count": null,
   "id": "9569091d",
   "metadata": {},
   "outputs": [],
   "source": []
  }
 ],
 "metadata": {
  "kernelspec": {
   "display_name": "Python 3",
   "language": "python",
   "name": "python3"
  },
  "language_info": {
   "codemirror_mode": {
    "name": "ipython",
    "version": 3
   },
   "file_extension": ".py",
   "mimetype": "text/x-python",
   "name": "python",
   "nbconvert_exporter": "python",
   "pygments_lexer": "ipython3",
   "version": "3.13.7"
  }
 },
 "nbformat": 4,
 "nbformat_minor": 5
}
