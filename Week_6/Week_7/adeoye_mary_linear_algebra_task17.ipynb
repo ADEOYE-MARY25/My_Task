{
 "cells": [
  {
   "cell_type": "markdown",
   "id": "60ff243b",
   "metadata": {},
   "source": [
    "####                        CLASS TASK FOUR"
   ]
  },
  {
   "cell_type": "markdown",
   "id": "78a2cf71",
   "metadata": {
    "vscode": {
     "languageId": "plaintext"
    }
   },
   "source": [
    "### Case Study: Student performance Analysis with Linear Algebra"
   ]
  },
  {
   "cell_type": "markdown",
   "id": "71982642",
   "metadata": {
    "vscode": {
     "languageId": "plaintext"
    }
   },
   "source": [
    "1. Introduction \n",
    "In this case study, we will use Linear Algebra concepts (vectors, vector operations, matrices, \n",
    "and matrix operations) to analyze student performance data. \n",
    "\n",
    "Linear Algebra is powerful because it allows us to represent and manipulate data in a \n",
    "structured way. For example:\n",
    "\n",
    "- Each student’s scores can be represented as a vector.\n",
    "\n",
    "- A group of students’ scores across subjects can be represented as a matrix.\n",
    "- We can then use vector and matrix operations to compute totals, averages, and weighted \n",
    "grades. "
   ]
  },
  {
   "cell_type": "markdown",
   "id": "df4aa7dc",
   "metadata": {
    "vscode": {
     "languageId": "plaintext"
    }
   },
   "source": [
    "2. Problem Setup \n",
    "\n",
    "We have the scores of 4 students in 3 subjects (Mathematics, English, Science):\n",
    "\n",
    "Student        Math       English      Science\n",
    "Student 1       80          70           90\n",
    "Student 2       60          85           75\n",
    "Student 3       95          88           92\n",
    "Student 4       70          60           65\n",
    "\n",
    "We will represent this dataset as a matrix:\n",
    "\n",
    "[[80, 70, 90], \n",
    "[60, 85, 75], \n",
    "[95, 88, 92], \n",
    "[70, 60, 65]] "
   ]
  },
  {
   "cell_type": "markdown",
   "id": "1674f85d",
   "metadata": {
    "vscode": {
     "languageId": "plaintext"
    }
   },
   "source": [
    "3.1 Representing Data as a Matrix \n",
    "\n",
    "Represent the scores as a 4x3 matrix, where rows = students and columns = subjects. \n",
    "\n",
    "3.2 Total Scores per Student (Vector Addition) \n",
    "Compute the total score for each student by summing across the row vector. \n",
    "\n",
    "3.3 Applying Weights (Scalar Multiplication) \n",
    "Apply subject weights (e.g., Math is twice as important as others) using scalar \n",
    "multiplication. \n",
    "\n",
    "3.4 Average Score per Subject (Matrix Operations) \n",
    "Compute the average score for each subject by calculating the column-wise mean. \n",
    "\n",
    "3.5 Final Grades using Matrix Multiplication \n",
    "Use matrix multiplication with a weight vector (e.g., [0.5, 0.3, 0.2]) to calculate final grades. \n",
    "\n",
    "3.6 Comparing Students (Vector Subtraction) \n",
    "Compare two students’ performances by subtracting their score vectors. "
   ]
  },
  {
   "cell_type": "code",
   "execution_count": 36,
   "id": "a7030f2a",
   "metadata": {},
   "outputs": [
    {
     "name": "stdout",
     "output_type": "stream",
     "text": [
      "[[80 70 90]\n",
      " [60 85 75]\n",
      " [95 88 92]\n",
      " [70 60 65]]\n",
      "Total sum for student_1:\n",
      "[240]\n",
      "Total sum for student_2:\n",
      "[220]\n",
      "Total sum for student_3:\n",
      "[275]\n",
      "Total sum for student_4:\n",
      " [195]\n"
     ]
    }
   ],
   "source": [
    "import numpy as np\n",
    "\n",
    "# 3.1Represent the scores as  a 4x3 matrix, where rows=students and columns = subjects\n",
    "student=np.array([[80, 70, 90], \n",
    "        [60, 85, 75], \n",
    "        [95, 88, 92], \n",
    "        [70, 60, 65]])\n",
    "matrix_4x3=np.array(student)\n",
    "print(student)\n",
    "\n",
    "\n",
    "# 3.2 computing the total score for each student by summing across the row vector\n",
    "student_1= [80 + 70 + 90]\n",
    "print(f\"Total sum for student_1:\\n{student_1}\")\n",
    "student_2= [60 + 85 + 75]\n",
    "print(f\"Total sum for student_2:\\n{student_2}\")\n",
    "student_3= [95 + 88 +  92]\n",
    "print(f\"Total sum for student_3:\\n{student_3}\")\n",
    "student_4= [70 + 60 + 65]\n",
    "print(f\"Total sum for student_4:\\n {student_4}\")\n",
    "\n",
    "\n",
    "\n",
    "    \n"
   ]
  },
  {
   "cell_type": "code",
   "execution_count": 37,
   "id": "e9996f36",
   "metadata": {},
   "outputs": [
    {
     "name": "stdout",
     "output_type": "stream",
     "text": [
      "scalar weight for math:\n",
      "[160 120 190 140]\n",
      "scalar_weight_english:\n",
      "[70 85 88 60]\n",
      "scalar_weight_science\n",
      "[90 75 92 65]\n"
     ]
    }
   ],
   "source": [
    "#3.3  Applying Weights (e.g math is twice as important as others) using scalar multiplication\n",
    "scalar_weight_math = (2 * student[:, 0])\n",
    "\n",
    "print(f\"scalar weight for math:\\n{scalar_weight_math}\")\n",
    "\n",
    "scalar_weight_english= (1 * student[:, 1])\n",
    "print(f\"scalar_weight_english:\\n{scalar_weight_english}\")\n",
    "scalar_weight_science= (1* student[:, 2])\n",
    "print(f\"scalar_weight_science\\n{scalar_weight_science}\")\n",
    "\n",
    "\n"
   ]
  },
  {
   "cell_type": "code",
   "execution_count": 38,
   "id": "ec9efcb2",
   "metadata": {},
   "outputs": [
    {
     "data": {
      "text/plain": [
       "array([76.25, 75.75, 80.5 ])"
      ]
     },
     "execution_count": 38,
     "metadata": {},
     "output_type": "execute_result"
    }
   ],
   "source": [
    "# 3.4 Average Score per Subject (Matrix Operations) \n",
    "# Compute the average score for each subject by calculating the column-wise mean.\n",
    "Average_score_per_subject=np.mean(student, axis=0)\n",
    "Average_score_per_subject"
   ]
  },
  {
   "cell_type": "code",
   "execution_count": 39,
   "id": "5bcf2b8a",
   "metadata": {},
   "outputs": [
    {
     "name": "stdout",
     "output_type": "stream",
     "text": [
      "final_grade for row one:\n",
      "80.0\n",
      "final_grade for row two:\n",
      "72.0\n",
      "final_grade for row three:\n",
      "92.0\n",
      "final_grade for row three:\n",
      " 65.5\n"
     ]
    }
   ],
   "source": [
    "# 3.5 Final Grades using Matrix Multiplication \n",
    "# Use matrix multiplication with a weight vector (e.g., [0.5, 0.3, 0.2]) to calculate final grades.\n",
    "weight_vector=[0.4, 0.3, 0.3]\n",
    "a= student.T\n",
    "# print(a)\n",
    "row1 = np.dot(weight_vector, student[0, :])\n",
    "print(f\"final_grade for row one:\\n{row1}\")\n",
    "row2 = np.dot(weight_vector, student[1, :])\n",
    "print(f\"final_grade for row two:\\n{row2}\")\n",
    "row3 = np.dot(weight_vector, student[2, :])\n",
    "print(f\"final_grade for row three:\\n{row3}\")\n",
    "row4= np.dot(weight_vector, student[3, :])\n",
    "print(f\"final_grade for row three:\\n {row4}\")\n",
    "\n",
    "\n"
   ]
  },
  {
   "cell_type": "code",
   "execution_count": 40,
   "id": "d8c4a38d",
   "metadata": {},
   "outputs": [
    {
     "name": "stdout",
     "output_type": "stream",
     "text": [
      "This is the compared results of two students:\n",
      "[20]\n",
      "This is the compared resulits of another two students:\n",
      "[80]\n"
     ]
    }
   ],
   "source": [
    "# 3.6 Comparing Students (Vector Subtraction) \n",
    "# Compare two students’ performances by subtracting their score vectors\n",
    "compared_result1=np.subtract(student_1, student_2 )\n",
    "print(f\"This is the compared results of two students:\\n{compared_result1}\")\n",
    "compared_result2=np.subtract(student_3, student_4)\n",
    "print(f\"This is the compared resulits of another two students:\\n{compared_result2}\")"
   ]
  },
  {
   "cell_type": "markdown",
   "id": "0304c5b9",
   "metadata": {
    "vscode": {
     "languageId": "plaintext"
    }
   },
   "source": [
    "4. Key Takeaways - Vectors represent individual students’ scores. \n",
    "\n",
    "- Vector addition/subtraction helps compare performance. \n",
    "- Scalar multiplication applies importance/weights to subjects.\n",
    " - Matrices represent the whole dataset. \n",
    "- Matrix multiplication is used for weighted grading. "
   ]
  },
  {
   "cell_type": "markdown",
   "id": "4b5a39a6",
   "metadata": {
    "vscode": {
     "languageId": "plaintext"
    }
   },
   "source": [
    "5. Add-on Exercises  \n",
    "1. Create a new 5×4 matrix of scores (5 students, 4 subjects). Compute each student’s total \n",
    "score and the average per subject. \n",
    "2. Suppose one subject (e.g., Science) is 3 times more important than others. Apply scalar \n",
    "multiplication and recompute totals. \n",
    "3. Define new weights for grading (e.g., 40%, 20%, 30%, 10%). Compute final grades using \n",
    "matrix multiplication. \n",
    "4. Compare Student 3 and Student 4 using vector subtraction. Who performed better in each subjects?"
   ]
  },
  {
   "cell_type": "code",
   "execution_count": 41,
   "id": "8245a519",
   "metadata": {},
   "outputs": [
    {
     "name": "stdout",
     "output_type": "stream",
     "text": [
      "[[45 44 28 76]\n",
      " [28 14 10 37]\n",
      " [ 2 72 59 83]\n",
      " [70 49 89 61]\n",
      " [33 36 12 22]]\n",
      "The total score: 1 is [[45 44 28 76]\n",
      " [28 14 10 37]\n",
      " [ 2 72 59 83]\n",
      " [70 49 89 61]\n",
      " [33 36 12 22]]\n",
      "The total score: 2 is [[45 44 28 76]\n",
      " [28 14 10 37]\n",
      " [ 2 72 59 83]\n",
      " [70 49 89 61]\n",
      " [33 36 12 22]]\n",
      "The total score: 3 is [[45 44 28 76]\n",
      " [28 14 10 37]\n",
      " [ 2 72 59 83]\n",
      " [70 49 89 61]\n",
      " [33 36 12 22]]\n",
      "The total score: 4 is [[45 44 28 76]\n",
      " [28 14 10 37]\n",
      " [ 2 72 59 83]\n",
      " [70 49 89 61]\n",
      " [33 36 12 22]]\n",
      "The total score: 5 is [[45 44 28 76]\n",
      " [28 14 10 37]\n",
      " [ 2 72 59 83]\n",
      " [70 49 89 61]\n",
      " [33 36 12 22]]\n",
      "The average scores of Math is 35.6 \n",
      "The average scores of English is 43.0 \n",
      "The average scores of Science is 39.6 \n",
      "The average scores of Yoruba is 55.8 \n"
     ]
    }
   ],
   "source": [
    "1#. Create a new 5×4 matrix of scores (5 students, 4 subjects). Compute each student’s total \n",
    "# score and the average per subject. \n",
    "scores=np.random.randint(1, 91, size=(5, 4))\n",
    "print(scores)\n",
    "# Compute each student's total score\n",
    "for i, row in enumerate(scores):\n",
    "    total_score = np.sum(scores, axis=1)\n",
    "    print(f\"The total score: {i + 1} is {scores}\")\n",
    "\n",
    "# To compute average score per subjects\n",
    "for i, column_index in enumerate(range(scores.shape[1])):\n",
    "    Average_score_per_subject=np.average(scores[:, column_index])\n",
    "    subjects=[\"Math\",\"English\", \"Science\", \"Yoruba\"]\n",
    "    print(f\"The average scores of {subjects[i]} is {Average_score_per_subject} \")\n",
    " \n",
    "\n",
    "\n"
   ]
  },
  {
   "cell_type": "markdown",
   "id": "d5157ed5",
   "metadata": {},
   "source": []
  },
  {
   "cell_type": "code",
   "execution_count": 50,
   "id": "1b9a7caf",
   "metadata": {},
   "outputs": [
    {
     "name": "stdout",
     "output_type": "stream",
     "text": [
      "[[77  4  1 67]\n",
      " [20 63 58 69]\n",
      " [35 66 26 39]\n",
      " [32 19 59 70]\n",
      " [30 80 81 18]]\n",
      "The total scores1 is 149\n",
      "The total scores2 is 210\n",
      "The total scores3 is 166\n",
      "The total scores4 is 180\n",
      "The total scores5 is 209\n",
      "The average scores eng is 38.8\n",
      "The average scores math is 46.4\n",
      "The average scores yoruba is 45.0\n",
      "The average scores french is 52.6\n"
     ]
    }
   ],
   "source": [
    "scores= np.random.randint(1,91, size=(5,4))\n",
    "print(scores)\n",
    "\n",
    "subjects=[\"eng\", \"math\", \"yoruba\", \"french\"]\n",
    "\n",
    "\n",
    "# computing data\n",
    "for i, row in enumerate(scores):\n",
    "    total_score=scores[i,:].sum()\n",
    "    print(f\"The total scores{i + 1} is {total_score}\")\n",
    "\n",
    "# compute average scores\n",
    "for i, column_index in enumerate(range (scores.shape[1])):\n",
    "    Average_score_per_subject=np.average(scores[:, column_index])    \n",
    "    print(f\"The average scores {subjects[i]} is {Average_score_per_subject}\")\n",
    "    \n",
    "    \n",
    "    \n"
   ]
  },
  {
   "cell_type": "code",
   "execution_count": null,
   "id": "e4f41863",
   "metadata": {},
   "outputs": [
    {
     "name": "stdout",
     "output_type": "stream",
     "text": [
      "[[0 0 0 0]\n",
      " [0 0 0 0]\n",
      " [0 0 0 0]\n",
      " [0 0 0 0]\n",
      " [0 0 0 0]]\n",
      "The scaled scores1 is [231   4   1  67]\n",
      "The scaled scores2 is [60 63 58 69]\n",
      "The scaled scores3 is [105  66  26  39]\n",
      "The scaled scores4 is [96 19 59 70]\n",
      "The scaled scores5 is [90 80 81 18]\n",
      "[[231   4   1  67]\n",
      " [ 60  63  58  69]\n",
      " [105  66  26  39]\n",
      " [ 96  19  59  70]\n",
      " [ 90  80  81  18]]\n"
     ]
    }
   ],
   "source": [
    "#2. Suppose one subject (e.g., Science) is 3 times more important than others. Apply scalar \n",
    "# multiplication and recompute totals\n",
    "\n",
    "scalar_weight= [3, 1, 1, 1]\n",
    "zeros_matrix=np.zeros_like(scores)\n",
    "print(zeros_matrix)\n",
    "for i, row in enumerate(scores):\n",
    "    zeros_matrix[i, :]=scores[i,:] * scalar_weight\n",
    "    scaled_score=scores[i,:] * scalar_weight\n",
    "    print(f\"The scaled scores{i + 1} is {scaled_score}\")\n",
    "print(zeros_matrix)"
   ]
  },
  {
   "cell_type": "markdown",
   "id": "97fc388c",
   "metadata": {},
   "source": [
    "### 3.  Define new weights for grading (e.g., 40%, 20%, 30%, 10%). Compute final grades using matrix multiplicaton"
   ]
  },
  {
   "cell_type": "code",
   "execution_count": null,
   "id": "47d0484e",
   "metadata": {},
   "outputs": [],
   "source": []
  }
 ],
 "metadata": {
  "kernelspec": {
   "display_name": "Python 3",
   "language": "python",
   "name": "python3"
  },
  "language_info": {
   "codemirror_mode": {
    "name": "ipython",
    "version": 3
   },
   "file_extension": ".py",
   "mimetype": "text/x-python",
   "name": "python",
   "nbconvert_exporter": "python",
   "pygments_lexer": "ipython3",
   "version": "3.13.7"
  }
 },
 "nbformat": 4,
 "nbformat_minor": 5
}
