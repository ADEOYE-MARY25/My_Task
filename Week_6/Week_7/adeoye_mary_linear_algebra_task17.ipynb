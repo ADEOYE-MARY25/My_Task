{
 "cells": [
  {
   "cell_type": "markdown",
   "id": "60ff243b",
   "metadata": {},
   "source": [
    "####                        CLASS TASK FOUR"
   ]
  },
  {
   "cell_type": "markdown",
   "id": "78a2cf71",
   "metadata": {
    "vscode": {
     "languageId": "plaintext"
    }
   },
   "source": [
    "### Case Study: Student performance Analysis with Linear Algebra"
   ]
  },
  {
   "cell_type": "markdown",
   "id": "71982642",
   "metadata": {
    "vscode": {
     "languageId": "plaintext"
    }
   },
   "source": [
    "1. Introduction \n",
    "In this case study, we will use Linear Algebra concepts (vectors, vector operations, matrices, \n",
    "and matrix operations) to analyze student performance data. \n",
    "\n",
    "Linear Algebra is powerful because it allows us to represent and manipulate data in a \n",
    "structured way. For example:\n",
    "\n",
    "- Each student’s scores can be represented as a vector.\n",
    "\n",
    "- A group of students’ scores across subjects can be represented as a matrix.\n",
    "- We can then use vector and matrix operations to compute totals, averages, and weighted \n",
    "grades. "
   ]
  },
  {
   "cell_type": "markdown",
   "id": "df4aa7dc",
   "metadata": {
    "vscode": {
     "languageId": "plaintext"
    }
   },
   "source": [
    "2. Problem Setup \n",
    "\n",
    "We have the scores of 4 students in 3 subjects (Mathematics, English, Science):\n",
    "\n",
    "Student        Math       English      Science\n",
    "Student 1       80          70           90\n",
    "Student 2       60          85           75\n",
    "Student 3       95          88           92\n",
    "Student 4       70          60           65\n",
    "\n",
    "We will represent this dataset as a matrix:\n",
    "\n",
    "[[80, 70, 90], \n",
    "[60, 85, 75], \n",
    "[95, 88, 92], \n",
    "[70, 60, 65]] "
   ]
  },
  {
   "cell_type": "markdown",
   "id": "1674f85d",
   "metadata": {
    "vscode": {
     "languageId": "plaintext"
    }
   },
   "source": [
    "3.1 Representing Data as a Matrix \n",
    "\n",
    "Represent the scores as a 4x3 matrix, where rows = students and columns = subjects. \n",
    "\n",
    "3.2 Total Scores per Student (Vector Addition) \n",
    "Compute the total score for each student by summing across the row vector. \n",
    "\n",
    "3.3 Applying Weights (Scalar Multiplication) \n",
    "Apply subject weights (e.g., Math is twice as important as others) using scalar \n",
    "multiplication. \n",
    "\n",
    "3.4 Average Score per Subject (Matrix Operations) \n",
    "Compute the average score for each subject by calculating the column-wise mean. \n",
    "\n",
    "3.5 Final Grades using Matrix Multiplication \n",
    "Use matrix multiplication with a weight vector (e.g., [0.5, 0.3, 0.2]) to calculate final grades. \n",
    "\n",
    "3.6 Comparing Students (Vector Subtraction) \n",
    "Compare two students’ performances by subtracting their score vectors. "
   ]
  },
  {
   "cell_type": "code",
   "execution_count": 1,
   "id": "a7030f2a",
   "metadata": {},
   "outputs": [
    {
     "name": "stdout",
     "output_type": "stream",
     "text": [
      "[[80 70 90]\n",
      " [60 85 75]\n",
      " [95 88 92]\n",
      " [70 60 65]]\n",
      "Total sum for student_1:\n",
      "[240]\n",
      "Total sum for student_2:\n",
      "[220]\n",
      "Total sum for student_3:\n",
      "[275]\n",
      "Total sum for student_4:\n",
      " [195]\n"
     ]
    }
   ],
   "source": [
    "import numpy as np\n",
    "\n",
    "# 3.1Represent the scores as  a 4x3 matrix, where rows=students and columns = subjects\n",
    "student=np.array([[80, 70, 90], \n",
    "        [60, 85, 75], \n",
    "        [95, 88, 92], \n",
    "        [70, 60, 65]])\n",
    "matrix_4x3=np.array(student)\n",
    "print(student)\n",
    "\n",
    "\n",
    "# 3.2 computing the total score for each student by summing across the row vector\n",
    "student_1= [80 + 70 + 90]\n",
    "print(f\"Total sum for student_1:\\n{student_1}\")\n",
    "student_2= [60 + 85 + 75]\n",
    "print(f\"Total sum for student_2:\\n{student_2}\")\n",
    "student_3= [95 + 88 +  92]\n",
    "print(f\"Total sum for student_3:\\n{student_3}\")\n",
    "student_4= [70 + 60 + 65]\n",
    "print(f\"Total sum for student_4:\\n {student_4}\")\n",
    "\n",
    "\n",
    "\n",
    "    \n"
   ]
  },
  {
   "cell_type": "code",
   "execution_count": null,
   "id": "e9996f36",
   "metadata": {},
   "outputs": [
    {
     "name": "stdout",
     "output_type": "stream",
     "text": [
      "scalar weight for math:\n",
      "[160 120 190 140]\n",
      "scalar_weight_english:\n",
      "[70 85 88 60]\n",
      "scalar_weight_science\n",
      "[90 75 92 65]\n"
     ]
    }
   ],
   "source": [
    "#3.3  Applying Weights (e.g math is twice as important as others) using scalar multiplication\n",
    "scalar_weight_math = (2 * student[:, 0])\n",
    "\n",
    "print(f\"scalar weight for math:\\n{scalar_weight_math}\")\n",
    "\n",
    "scalar_weight_english= (1 * student[:, 1])\n",
    "print(f\"scalar_weight_english:\\n{scalar_weight_english}\")\n",
    "scalar_weight_science= (1* student[:, 2])\n",
    "print(f\"scalar_weight_science\\n{scalar_weight_science}\")\n",
    "\n",
    "\n"
   ]
  },
  {
   "cell_type": "code",
   "execution_count": 5,
   "id": "ec9efcb2",
   "metadata": {},
   "outputs": [
    {
     "data": {
      "text/plain": [
       "array([76.25, 75.75, 80.5 ])"
      ]
     },
     "execution_count": 5,
     "metadata": {},
     "output_type": "execute_result"
    }
   ],
   "source": [
    "# 3.4 Average Score per Subject (Matrix Operations) \n",
    "# Compute the average score for each subject by calculating the column-wise mean.\n",
    "Average_score_per_subject=np.mean(student, axis=0)\n",
    "Average_score_per_subject"
   ]
  },
  {
   "cell_type": "code",
   "execution_count": 19,
   "id": "5bcf2b8a",
   "metadata": {},
   "outputs": [
    {
     "name": "stdout",
     "output_type": "stream",
     "text": [
      "final_grade for row one:\n",
      "80.0\n",
      "final_grade for row two:\n",
      "72.0\n",
      "final_grade for row three:\n",
      "92.0\n",
      "final_grade for row three:\n",
      " 65.5\n"
     ]
    }
   ],
   "source": [
    "# 3.5 Final Grades using Matrix Multiplication \n",
    "# Use matrix multiplication with a weight vector (e.g., [0.5, 0.3, 0.2]) to calculate final grades.\n",
    "weight_vector=[0.4, 0.3, 0.3]\n",
    "a= student.T\n",
    "# print(a)\n",
    "row1 = np.dot(weight_vector, student[0, :])\n",
    "print(f\"final_grade for row one:\\n{row1}\")\n",
    "row2 = np.dot(weight_vector, student[1, :])\n",
    "print(f\"final_grade for row two:\\n{row2}\")\n",
    "row3 = np.dot(weight_vector, student[2, :])\n",
    "print(f\"final_grade for row three:\\n{row3}\")\n",
    "row4= np.dot(weight_vector, student[3, :])\n",
    "print(f\"final_grade for row three:\\n {row4}\")\n",
    "\n",
    "\n"
   ]
  },
  {
   "cell_type": "code",
   "execution_count": 22,
   "id": "d8c4a38d",
   "metadata": {},
   "outputs": [
    {
     "name": "stdout",
     "output_type": "stream",
     "text": [
      "This is the compared results of two students:\n",
      "[20]\n",
      "This is the compared resulits of another two students:\n",
      "[80]\n"
     ]
    }
   ],
   "source": [
    "# 3.6 Comparing Students (Vector Subtraction) \n",
    "# Compare two students’ performances by subtracting their score vectors\n",
    "compared_result1=np.subtract(student_1, student_2 )\n",
    "print(f\"This is the compared results of two students:\\n{compared_result1}\")\n",
    "compared_result2=np.subtract(student_3, student_4)\n",
    "print(f\"This is the compared resulits of another two students:\\n{compared_result2}\")"
   ]
  },
  {
   "cell_type": "markdown",
   "id": "0304c5b9",
   "metadata": {
    "vscode": {
     "languageId": "plaintext"
    }
   },
   "source": [
    "4. Key Takeaways - Vectors represent individual students’ scores. \n",
    "\n",
    "- Vector addition/subtraction helps compare performance. \n",
    "- Scalar multiplication applies importance/weights to subjects.\n",
    " - Matrices represent the whole dataset. \n",
    "- Matrix multiplication is used for weighted grading. "
   ]
  },
  {
   "cell_type": "markdown",
   "id": "4b5a39a6",
   "metadata": {
    "vscode": {
     "languageId": "plaintext"
    }
   },
   "source": [
    "5. Add-on Exercises  \n",
    "1. Create a new 5×4 matrix of scores (5 students, 4 subjects). Compute each student’s total \n",
    "score and the average per subject. \n",
    "2. Suppose one subject (e.g., Science) is 3 times more important than others. Apply scalar \n",
    "multiplication and recompute totals. \n",
    "3. Define new weights for grading (e.g., 40%, 20%, 30%, 10%). Compute final grades using \n",
    "matrix multiplication. \n",
    "4. Compare Student 3 and Student 4 using vector subtraction. Who performed better in each subjects?"
   ]
  },
  {
   "cell_type": "code",
   "execution_count": 25,
   "id": "8245a519",
   "metadata": {},
   "outputs": [
    {
     "name": "stdout",
     "output_type": "stream",
     "text": [
      "[[69 69 77 63]\n",
      " [29 66 81 85]\n",
      " [46  4 78 76]\n",
      " [30 88 72 60]\n",
      " [32 11 45  7]]\n"
     ]
    }
   ],
   "source": [
    "1#. Create a new 5×4 matrix of scores (5 students, 4 subjects). Compute each student’s total \n",
    "# score and the average per subject. \n",
    "scores=np.random.randint(1, 91, size=(5, 4))\n",
    "print(scores)\n",
    "# Compute each student's total score\n",
    " \n",
    "\n",
    "\n"
   ]
  }
 ],
 "metadata": {
  "kernelspec": {
   "display_name": "Python 3",
   "language": "python",
   "name": "python3"
  },
  "language_info": {
   "codemirror_mode": {
    "name": "ipython",
    "version": 3
   },
   "file_extension": ".py",
   "mimetype": "text/x-python",
   "name": "python",
   "nbconvert_exporter": "python",
   "pygments_lexer": "ipython3",
   "version": "3.13.7"
  }
 },
 "nbformat": 4,
 "nbformat_minor": 5
}
