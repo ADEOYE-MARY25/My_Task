{
 "cells": [
  {
   "cell_type": "markdown",
   "id": "61ff3beb",
   "metadata": {},
   "source": [
    "                   # TASK 3\n",
    " Let A= [2, -1], [0, 3],  B= [1, 4], [-2, 5]\n",
    "    and let the scalars (c = 2), (d = 3).\n",
    "\n",
    "(a) compute the following: (cA), (dB), and (c + d)A\n",
    "\n",
    "(b) using the results gotten, verify the scalar Multiplication properties\n",
    "\n",
    " (c) Find the transpose of both matrices:\n",
    "\n",
    "(d) check if (A) and (B) are invertible by computing thier derterminants. if they are invertible, find A^-1 and B^-1"
   ]
  },
  {
   "cell_type": "code",
   "execution_count": 22,
   "id": "e9f7e306",
   "metadata": {},
   "outputs": [],
   "source": [
    "# import all necessary libraries\n",
    "import numpy as np\n",
    "import matplotlib.pyplot as plt\n",
    "\n",
    "\n"
   ]
  },
  {
   "cell_type": "code",
   "execution_count": 23,
   "id": "643b400e",
   "metadata": {},
   "outputs": [
    {
     "name": "stdout",
     "output_type": "stream",
     "text": [
      "[[ 4 -2]\n",
      " [ 0  6]]\n",
      "[[ 3 12]\n",
      " [-6 15]]\n",
      "[[10 -5]\n",
      " [ 0 15]]\n"
     ]
    }
   ],
   "source": [
    "#  compute the following : (cA), (dA), and (c + d)A\n",
    "# Answer to question (a)\n",
    "\n",
    "A= np.array([[2, -1], \n",
    "             [0, 3]])\n",
    "B= np.array([[1, 4], [-2, 5]])\n",
    "\n",
    "c = 2\n",
    "d = 3\n",
    "\n",
    "cA = (c * A)\n",
    "print(cA)\n",
    "\n",
    "dB=np.dot(d, B)\n",
    "print(dB)\n",
    "\n",
    "e = (c + d)\n",
    "print(e * A)\n"
   ]
  },
  {
   "cell_type": "code",
   "execution_count": 29,
   "id": "341cf65e",
   "metadata": {},
   "outputs": [
    {
     "name": "stdout",
     "output_type": "stream",
     "text": [
      "Transpose A:\n",
      " [[ 2  0]\n",
      " [-1  3]] \n",
      "and Transpose B:\n",
      " [[ 1 -2]\n",
      " [ 4  5]]\n"
     ]
    }
   ],
   "source": [
    "transs_A= A.T\n",
    "transs_b = B.transpose()\n",
    "print(f\"Transpose A:\\n {transs_A} \\nand Transpose B:\\n {transs_b}\")"
   ]
  },
  {
   "cell_type": "code",
   "execution_count": null,
   "id": "c99dcecb",
   "metadata": {},
   "outputs": [],
   "source": [
    "# check if (A) and (B) are invertible by computing thier derterminants. if they are invertible, find A^-1 and B^-1"
   ]
  },
  {
   "cell_type": "code",
   "execution_count": 38,
   "id": "bda9115c",
   "metadata": {},
   "outputs": [
    {
     "name": "stdout",
     "output_type": "stream",
     "text": [
      "6.0 13.0\n",
      "6.0\n",
      "[[0.5        0.16666667]\n",
      " [0.         0.33333333]]\n",
      "[[ 0.38461538 -0.30769231]\n",
      " [ 0.15384615  0.07692308]]\n"
     ]
    }
   ],
   "source": [
    "det_A = np.linalg.det(A)\n",
    "det_B = np.linalg.det(B)\n",
    "print(det_A,det_B)\n",
    "\n",
    "det_T = np.linalg.det(transs_A)\n",
    "print(det_T)\n",
    "\n",
    "print(np.linalg.inv(A))\n",
    "\n",
    "\n",
    "print(np.linalg.inv(B))\n"
   ]
  },
  {
   "cell_type": "code",
   "execution_count": null,
   "id": "1bf92614",
   "metadata": {},
   "outputs": [],
   "source": []
  },
  {
   "cell_type": "code",
   "execution_count": null,
   "id": "b87bc1d9",
   "metadata": {},
   "outputs": [],
   "source": []
  },
  {
   "cell_type": "code",
   "execution_count": null,
   "id": "ad7a1bc5",
   "metadata": {},
   "outputs": [],
   "source": []
  }
 ],
 "metadata": {
  "kernelspec": {
   "display_name": "Python 3",
   "language": "python",
   "name": "python3"
  },
  "language_info": {
   "codemirror_mode": {
    "name": "ipython",
    "version": 3
   },
   "file_extension": ".py",
   "mimetype": "text/x-python",
   "name": "python",
   "nbconvert_exporter": "python",
   "pygments_lexer": "ipython3",
   "version": "3.13.7"
  }
 },
 "nbformat": 4,
 "nbformat_minor": 5
}
