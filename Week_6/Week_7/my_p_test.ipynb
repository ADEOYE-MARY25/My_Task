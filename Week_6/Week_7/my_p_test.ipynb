{
 "cells": [
  {
   "cell_type": "code",
   "execution_count": 11,
   "id": "e5cc05bf",
   "metadata": {},
   "outputs": [],
   "source": [
    "# 5. Add-on Exercises  \n",
    "# 1. Create a new 5×4 matrix of scores (5 students, 4 subjects). Compute each student’s total\n",
    "import numpy as np\n",
    " \n",
    "# score and the average per subject. \n",
    "# 2. Suppose one subject (e.g., Science) is 3 times more important than others. Apply scalar \n",
    "# multiplication and recompute totals. \n",
    "# 3. Define new weights for grading (e.g., 40%, 20%, 30%, 10%). Compute final grades using \n",
    "# matrix multiplication. \n",
    "# 4. Compare Student 3 and Student 4 using vector subtraction. Who performed better in each subjects?\n",
    "\n",
    "# 3.1 Representing Data as a Matrix \n",
    "\n",
    "# Represent the scores as a 4x3 matrix, where rows = students and columns = subjects. \n",
    "\n",
    "# 3.2 Total Scores per Student (Vector Addition) \n",
    "# Compute the total score for each student by summing across the row vector. \n",
    "\n",
    "# 3.3 Applying Weights (Scalar Multiplication) \n",
    "# Apply subject weights (e.g., Math is twice as important as others) using scalar \n",
    "# multiplication. \n",
    "\n",
    "# 3.4 Average Score per Subject (Matrix Operations) \n",
    "# Compute the average score for each subject by calculating the column-wise mean. \n",
    "\n",
    "# 3.5 Final Grades using Matrix Multiplication \n",
    "# Use matrix multiplication with a weight vector (e.g., [0.5, 0.3, 0.2]) to calculate final grades. \n",
    "\n",
    "# 3.6 Comparing Students (Vector Subtraction) \n",
    "# Compare two students’ performances by subtracting their score vectors. "
   ]
  },
  {
   "cell_type": "code",
   "execution_count": 38,
   "id": "e928b7e9",
   "metadata": {},
   "outputs": [
    {
     "name": "stdout",
     "output_type": "stream",
     "text": [
      "[[18 19 14  5]\n",
      " [11 10 15 10]\n",
      " [11 13  7 10]\n",
      " [ 6 11  8  7]\n",
      " [ 7  7 13 14]]\n",
      "This is the total score for the students 1 is [56 46 41 32 41]\n",
      "This is the total score for the students 2 is [56 46 41 32 41]\n",
      "This is the total score for the students 3 is [56 46 41 32 41]\n",
      "This is the total score for the students 4 is [56 46 41 32 41]\n",
      "This is the total score for the students 5 is [56 46 41 32 41]\n",
      "This is the average score of students in eng, is 10.6\n",
      "This is the average score of students in math, is 12.0\n",
      "This is the average score of students in ict, is 11.4\n",
      "This is the average score of students in crs, is 9.2\n"
     ]
    }
   ],
   "source": [
    "import numpy as np\n",
    "# 1. Create a new 5×4 matrix of scores (5 students, 4 subjects). Compute each student’s total\n",
    "scores=np.random.randint(5, 20, size=(5,4))\n",
    "print(scores)\n",
    "# compute each student's total\n",
    "for i, row in enumerate(scores):\n",
    "    total_score=np.sum(scores, axis=1)\n",
    "    print(f\"This is the total score for the students {i + 1} is {total_score}\")\n",
    "# To compute the average score per subject\n",
    "for i, column_index in enumerate(range(scores.shape[1])):\n",
    "    average_score_per_subject=np.average(scores [:, column_index])\n",
    "    subjects=[\"eng\", \"math\", \"ict\", \"crs\"]    \n",
    "    print(f\"This is the average score of students in {subjects[i]}, is {average_score_per_subject}\")"
   ]
  },
  {
   "cell_type": "code",
   "execution_count": null,
   "id": "808a1bd5",
   "metadata": {},
   "outputs": [
    {
     "name": "stdout",
     "output_type": "stream",
     "text": [
      "The scaled score is 1 in:\n",
      "[54  8 10 12]\n",
      "The scaled score is 2 in:\n",
      "[27  8 15  7]\n",
      "The scaled score is 3 in:\n",
      "[57 14  7  9]\n",
      "The scaled score is 4 in:\n",
      "[21 18 13  7]\n",
      "The scaled score is 5 in:\n",
      "[33  8 18 18]\n"
     ]
    }
   ],
   "source": [
    "# 2. Suppose one subject (e.g., Science) is 3 times more important than others. Apply scalar \n",
    "# multiplication and recompute totals. \n",
    "scalar_mult=[3,1,1,1]\n",
    "for i, row in enumerate(scores):\n",
    "    scaled_score=scores[i, :] * scalar_mult\n",
    "\n",
    "    print(f\"The scaled score is {i + 1} in:\\n{scaled_score}\")\n",
    "\n",
    "\n",
    "\n",
    "\n"
   ]
  },
  {
   "cell_type": "code",
   "execution_count": 14,
   "id": "9a5a0df3",
   "metadata": {},
   "outputs": [
    {
     "name": "stdout",
     "output_type": "stream",
     "text": [
      "[13.  10.4 13.4 11.  13.2]\n",
      "[[18  8 10 12]\n",
      " [ 9  8 15  7]\n",
      " [19 14  7  9]\n",
      " [ 7 18 13  7]\n",
      " [11  8 18 18]]\n",
      "[19 14  7  9]\n",
      "[ 7 18 13  7]\n",
      "This is the result from(('math', 'eng', 'crs', 'yoruba'), 4) that was compared from student3 and student4[12 -4 -6  2]\n"
     ]
    }
   ],
   "source": [
    "# 3. Define new weights for grading (e.g., 40%, 20%, 30%, 10%). Compute final grades using \n",
    "# matrix multiplication.\n",
    "new_weight=[0.4, 0.2, 0.3, 0.1] \n",
    "final_grade=np.dot(scores , new_weight)\n",
    "print(final_grade)\n",
    "\n",
    "\n",
    "# 4. Compare Student 3 and Student 4 using vector subtraction. Who performed better in each subjects?\n",
    "print(scores)\n",
    "student3=(scores[2,:])\n",
    "print(student3)\n",
    "student4=(scores[3,:])\n",
    "print(student4)\n",
    "subjects=(\"math\", \"eng\", \"crs\", \"yoruba\")\n",
    "for i, row in enumerate(scores):\n",
    "    compared_result=np.subtract(student3, student4)\n",
    "print(f\"This is the result from{subjects, i} that was compared from student3 and student4{compared_result}\")\n"
   ]
  },
  {
   "cell_type": "code",
   "execution_count": 15,
   "id": "92eee8e7",
   "metadata": {},
   "outputs": [
    {
     "name": "stdout",
     "output_type": "stream",
     "text": [
      "[[80 70 90]\n",
      " [60 85 75]\n",
      " [95 88 92]\n",
      " [70 60 65]]\n",
      " This is the sum score for student_1 [240]\n",
      " This is the sum score for student_2 [220]\n",
      " This is the sum score for student_3 [275]\n",
      " This is the sum score for student_4 [195]\n"
     ]
    }
   ],
   "source": [
    "\n",
    "# Represent the scores as a 4x3 matrix, where rows = students and columns = subjects.\n",
    "students=np.array([[80, 70, 90], \n",
    "                [60, 85, 75], \n",
    "                [95, 88, 92], \n",
    "                [70, 60, 65]])\n",
    "print(students)\n",
    "\n",
    "\n",
    "\n",
    "# 3.2 Total Scores per Student (Vector Addition) \n",
    "# Compute the total score for each student by summing across the row vector. \n",
    "student_1= [80 + 70 + 90]\n",
    "print(f\" This is the sum score for student_1 {student_1}\")\n",
    "\n",
    "student_2= [60 + 85 + 75]\n",
    "print(f\" This is the sum score for student_2 {student_2}\")\n",
    "\n",
    "student_3= [95 + 88 + 92]\n",
    "print(f\" This is the sum score for student_3 {student_3}\")\n",
    "\n",
    "student_4= [70 + 60 + 65]\n",
    "print(f\" This is the sum score for student_4 {student_4}\")\n",
    "\n"
   ]
  },
  {
   "cell_type": "code",
   "execution_count": 31,
   "id": "d5141d23",
   "metadata": {},
   "outputs": [
    {
     "name": "stdout",
     "output_type": "stream",
     "text": [
      "The scalar weight for math is [160 140 180]\n",
      "The scalar weight for eng is [60 85 75]\n",
      " The scalar weight for french is [95 88 92]\n"
     ]
    }
   ],
   "source": [
    "# 3.3 Applying Weights (Scalar Multiplication) \n",
    "# Apply subject weights (e.g., Math is twice as important as others) using scalar \n",
    "# multiplication\n",
    "scalar_mult=[2, 1, 1]\n",
    "row_1=(2 *students[0,:])\n",
    "print(f\"The scalar weight for math is {row_1}\")\n",
    "\n",
    "row_2=(1 * students[1,:])\n",
    "print(f\"The scalar weight for eng is {row_2}\")\n",
    "\n",
    "row_3=(1 * students[2,:])\n",
    "print(f\" The scalar weight for french is {row_3}\")"
   ]
  },
  {
   "cell_type": "code",
   "execution_count": 30,
   "id": "73f02a86",
   "metadata": {},
   "outputs": [
    {
     "name": "stdout",
     "output_type": "stream",
     "text": [
      "76.25\n",
      "75.75\n",
      "80.5\n",
      "[76.25 75.75 80.5 ]\n"
     ]
    }
   ],
   "source": [
    "# 3.4 Average Score per Subject (Matrix Operations) \n",
    "# Compute the average score for each subject by calculating the column-wise mean.\n",
    "average_score_per_subject=np.mean(students[:,0])\n",
    "print(average_score_per_subject)\n",
    "average_score_per_subject=np.mean(students[:,1])\n",
    "print(average_score_per_subject)\n",
    "average_score_per_subject=np.mean(students[:,2])\n",
    "print(average_score_per_subject)\n",
    "average_score_per_subject=np.mean(students, axis=0)\n",
    "print(average_score_per_subject)"
   ]
  },
  {
   "cell_type": "code",
   "execution_count": 34,
   "id": "d5d187e8",
   "metadata": {},
   "outputs": [
    {
     "name": "stdout",
     "output_type": "stream",
     "text": [
      "This are the final grades of students [79.  70.5 92.3 66. ]\n"
     ]
    }
   ],
   "source": [
    "#3.5 Final Grades using Matrix Multiplication \n",
    "# Use matrix multiplication with a weight vector (e.g., [0.5, 0.3, 0.2]) to calculate final grades.\n",
    "weight_vector=[0.5, 0.3, 0.2]\n",
    "final_grade=np.dot(students, weight_vector)\n",
    "print(f\"This are the final grades of students {final_grade}\")"
   ]
  },
  {
   "cell_type": "code",
   "execution_count": 35,
   "id": "19106a89",
   "metadata": {},
   "outputs": [
    {
     "name": "stdout",
     "output_type": "stream",
     "text": [
      "[12 -4 -6  2]\n"
     ]
    }
   ],
   "source": [
    "# 3.6 Comparing Students (Vector Subtraction) \n",
    "# Compare two students’ performances by subtracting their score vectors.\n",
    "compared_result=np.subtract(student3, student4)\n",
    "print(compared_result)"
   ]
  }
 ],
 "metadata": {
  "kernelspec": {
   "display_name": "Python 3",
   "language": "python",
   "name": "python3"
  },
  "language_info": {
   "codemirror_mode": {
    "name": "ipython",
    "version": 3
   },
   "file_extension": ".py",
   "mimetype": "text/x-python",
   "name": "python",
   "nbconvert_exporter": "python",
   "pygments_lexer": "ipython3",
   "version": "3.13.7"
  }
 },
 "nbformat": 4,
 "nbformat_minor": 5
}
