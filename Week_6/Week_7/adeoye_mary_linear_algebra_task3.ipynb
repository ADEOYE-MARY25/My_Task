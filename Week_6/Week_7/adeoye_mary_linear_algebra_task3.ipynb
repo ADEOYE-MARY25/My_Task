{
 "cells": [
  {
   "cell_type": "markdown",
   "id": "6bc2dfcb",
   "metadata": {},
   "source": [
    "## \n",
    " Let A= [2, -1], [0, 3],  B= [1, 4], [-2, 5]\n",
    "    and let the scalars (c = 2), (d = 3).\n",
    "\n",
    "# (a) compute the following: (cA), (dB), and (c + d)A\n",
    "# (b) using the results gotten, verify the scalar Multiplication properties\n",
    "# (c) Find the transpose of both matrices:\n",
    "# (d) check if (A) and (B) are invertible by computing thier derterminants. if they are invertible, find A^-1 and B^-1"
   ]
  },
  {
   "cell_type": "markdown",
   "id": "0199eaf8",
   "metadata": {},
   "source": [
    "# Answer to question (a)\n",
    "when  c= 2 and d=3\n",
    "(cA)= [ 2(2), 2(-1)] , [ 2()]"
   ]
  }
 ],
 "metadata": {
  "language_info": {
   "name": "python"
  }
 },
 "nbformat": 4,
 "nbformat_minor": 5
}
