{
 "cells": [
  {
   "cell_type": "markdown",
   "id": "6bc2dfcb",
   "metadata": {},
   "source": [
    "                   # TASK 3\n",
    " Let A= [2, -1], [0, 3],  B= [1, 4], [-2, 5]\n",
    "    and let the scalars (c = 2), (d = 3).\n",
    "\n",
    "#### (a) compute the following: (cA), (dB), and (c + d)A\n",
    "#### (b) using the results gotten, verify the scalar Multiplication properties\n",
    "#### (c) Find the transpose of both matrices:\n",
    "#### (d) check if (A) and (B) are invertible by computing thier derterminants. if they are invertible, find A^-1 and B^-1"
   ]
  },
  {
   "cell_type": "markdown",
   "id": "0199eaf8",
   "metadata": {},
   "source": [
    "# Answer to question (a)\n",
    "where  c= 2 and d=3\n",
    "(cA)= [ 2.(2), 2.(-1)] , [ 2.(0), 2.(3)]\n",
    " (cA)=[4, -2], [0, 6]\n",
    "\n",
    "where d= 3\n",
    "(dB)= [3.(1), 3.(4)], [3.(-2), 3.(5)]\n",
    "(dB)= [3, 12], [-6, 15]\n",
    "\n",
    "\n",
    "where (c + d)A\n",
    "       C + d  = 2 + 3 = 5\n",
    "       (c + d)A= [5.(2), 5.(-1)], [5.(0), 5.(3)]\n",
    "       (C + d)A= [10, -5], [0, 15]\n"
   ]
  },
  {
   "cell_type": "code",
   "execution_count": null,
   "id": "87efcc7f",
   "metadata": {},
   "outputs": [],
   "source": [
    " # Answer to question (b)\n",
    "#### This is element wise multiplication\n",
    "A= [2, -1], [0, 3],  B= [1, 4], [-2, 5]\n",
    "\n",
    "(c.d)A = c.(dA) \n",
    "This satisfies Association of scalar properties \n",
    "\n",
    "\n",
    "(c + d)A\n",
    "C + d  = 2 + 3 = 5\n",
    "(c + d)A= [5.(2), 5.(-1)], [5.(0), 5.(3)]\n",
    "(C + d)A= [10, -5], [0, 15]\n",
    "(c + d)A = cA + dA\n",
    "# This satisfied distributivity over scalar addition\n",
    "#### It is distributive, associative and commutative"
   ]
  },
  {
   "cell_type": "markdown",
   "id": "2c23a697",
   "metadata": {},
   "source": []
  },
  {
   "cell_type": "markdown",
   "id": "878f5599",
   "metadata": {
    "vscode": {
     "languageId": "plaintext"
    }
   },
   "source": [
    "#### Answer to question (c)\n",
    "A^T= [2, 0], [-1, 3]\n",
    "B^T=[1, -2], [4, 5]"
   ]
  },
  {
   "cell_type": "markdown",
   "id": "07963165",
   "metadata": {
    "vscode": {
     "languageId": "plaintext"
    }
   },
   "source": [
    "# Answer to task (d)\n",
    "To check if A is invertible \n",
    "A=([2.(3)], [-1.(0)])= 6 - 0 = 6\n",
    "B= ([1.(5)], [4.-(-2)])=5 -(-8)= 13\n",
    "\n",
    "A^T= 1/dt(A) A= 1/6[3, 1], [-0, 2]\n",
    "               = [1/2, 1/6], [0, 1/3]\n",
    "\n",
    "B^T= 1/dt(B) = 1/13[[1, 4], [-2, 5]]\n",
    "              = [5/13, -4/13], [2/13, 1/13]"
   ]
  }
 ],
 "metadata": {
  "language_info": {
   "name": "python"
  }
 },
 "nbformat": 4,
 "nbformat_minor": 5
}
