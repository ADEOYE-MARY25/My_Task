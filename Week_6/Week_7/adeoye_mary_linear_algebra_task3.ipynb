{
 "cells": [
  {
   "cell_type": "markdown",
   "id": "6bc2dfcb",
   "metadata": {},
   "source": [
    "                   # TASK 3\n",
    " Let A= [2, -1], [0, 3],  B= [1, 4], [-2, 5]\n",
    "    and let the scalars (c = 2), (d = 3).\n",
    "\n",
    "#### (a) compute the following: (cA), (dB), and (c + d)A\n",
    "#### (b) using the results gotten, verify the scalar Multiplication properties\n",
    "#### (c) Find the transpose of both matrices:\n",
    "#### (d) check if (A) and (B) are invertible by computing thier derterminants. if they are invertible, find A^-1 and B^-1"
   ]
  },
  {
   "cell_type": "markdown",
   "id": "0199eaf8",
   "metadata": {},
   "source": [
    "# Answer to question (a)\n",
    "where  c= 2 and d=3\n",
    "(cA)= [ 2.(2), 2.(-1)] , [ 2.(0), 2.(3)]\n",
    " (cA)=[4, -2], [0, 6]\n",
    "\n",
    "where d= 3\n",
    "(dB)= [3.(1), 3.(4)], [3.(-2), 3.(5)]\n",
    "(dB)= [3, 12], [-6, 15]\n",
    "\n",
    "\n",
    "where (c + d)A\n",
    "       C + d  = 2 + 3 = 5\n",
    "       (c + d)A= [5.(2), 5.(-1)], [5.(0), 5.(3)]\n",
    "       (C + d)A= [10, -5], [0, 15]\n"
   ]
  },
  {
   "cell_type": "markdown",
   "id": "87efcc7f",
   "metadata": {},
   "source": [
    " # Answer to question (b)\n",
    "#### This is element wise multiplication\n",
    "A= [2, -1], [0, 3],  B= [1, 4], [-2, 5]\n",
    "\n",
    "(c.d)A = c.(dA) \n",
    "This satisfies Association of scalar properties \n",
    "\n",
    "\n",
    "where (c + d)A\n",
    "       C + d  = 2 + 3 = 5\n",
    "       (c + d)A= [5.(2), 5.(-1)], [5.(0), 5.(3)]\n",
    "       (C + d)A= [10, -5], [0, 15]\n",
    "    (c + d)A = cA + dA\n",
    "    This satisfied distributivity over scalar addition\n",
    "#### It is distributive, associative and commutative"
   ]
  },
  {
   "cell_type": "markdown",
   "id": "878f5599",
   "metadata": {
    "vscode": {
     "languageId": "plaintext"
    }
   },
   "source": [
    "#### Answer to question (c)\n",
    "A^T= [2, 0], [-1, 3]\n",
    "B^T=[1, -2], [4, 5]"
   ]
  },
  {
   "cell_type": "markdown",
   "id": "07963165",
   "metadata": {
    "vscode": {
     "languageId": "plaintext"
    }
   },
   "source": [
    "# Answer to task (d)\n",
    "To check if A is invertible \n",
    "A=([2.(3)], [-1.(0)])= 6 - 0 = 6\n",
    "B= ([1.(5)], [4.(-2)])=5 -(-6)= 11\n",
    "\n",
    "A^T= 1/dt(A) A= 1/6[2, -1], [0, 3]\n",
    "               = [1/3, -1/6], [0, 1/2]\n",
    "\n",
    "B^T= 1/dt(B) B= 1/11[1, 4], [-2, 5]\n",
    "               =[1/11, 4/11], [-2/11, 5/11]"
   ]
  }
 ],
 "metadata": {
  "language_info": {
   "name": "python"
  }
 },
 "nbformat": 4,
 "nbformat_minor": 5
}
