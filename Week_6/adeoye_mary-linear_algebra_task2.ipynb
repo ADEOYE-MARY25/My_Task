{
 "cells": [
  {
   "cell_type": "markdown",
   "id": "44e1e5e1",
   "metadata": {},
   "source": [
    " CLASS TASK TWO"
   ]
  },
  {
   "cell_type": "markdown",
   "id": "c315caaf",
   "metadata": {},
   "source": [
    "### (a). identify the number of rows and columns in each matrix.\n",
    "### (b). Determine wheather the matrices can be multiplied. If so, specify whether it's AB, (BA) or both\n",
    "### (c) if the multiplication is define, compute the resulting matrix."
   ]
  },
  {
   "cell_type": "markdown",
   "id": "2e12a40c",
   "metadata": {},
   "source": [
    "#### Answer for (a)"
   ]
  },
  {
   "cell_type": "markdown",
   "id": "3fa34b5b",
   "metadata": {},
   "source": [
    "#### Answer \n",
    "# for matrix A  we have two rows and three columns\n",
    "# for matrix B  we have three rows and two columns"
   ]
  },
  {
   "cell_type": "markdown",
   "id": "cbfd5a0f",
   "metadata": {},
   "source": [
    "### Answer for (b)"
   ]
  },
  {
   "cell_type": "markdown",
   "id": "3145ff4d",
   "metadata": {},
   "source": [
    "### answer \n",
    "# This matrix can be multiplied together because it obey the rules of multiplication in matrix. The number of columns in A is the same as the numbers of rows in B"
   ]
  },
  {
   "cell_type": "markdown",
   "id": "088fdb31",
   "metadata": {},
   "source": [
    "## Answer for (c)"
   ]
  },
  {
   "cell_type": "code",
   "execution_count": 3,
   "id": "d93f3635",
   "metadata": {},
   "outputs": [],
   "source": [
    "# computing results\n",
    "import numpy as np\n"
   ]
  },
  {
   "cell_type": "code",
   "execution_count": 10,
   "id": "8b4b2130",
   "metadata": {},
   "outputs": [
    {
     "name": "stdout",
     "output_type": "stream",
     "text": [
      "(2, 3)\n"
     ]
    }
   ],
   "source": [
    "matrixA = np.array([[2, -1, 3],\n",
    "                   [0, 4, 1]])\n",
    "print(matrixA.shape)"
   ]
  },
  {
   "cell_type": "code",
   "execution_count": 11,
   "id": "252a3e34",
   "metadata": {},
   "outputs": [
    {
     "name": "stdout",
     "output_type": "stream",
     "text": [
      "(3, 2)\n"
     ]
    }
   ],
   "source": [
    "matrixB = np.array([[1, 2],\n",
    "                    [-2, 0],\n",
    "                    [5, -3]])\n",
    "print(matrixB.shape)"
   ]
  },
  {
   "cell_type": "code",
   "execution_count": 13,
   "id": "f3a734be",
   "metadata": {},
   "outputs": [
    {
     "data": {
      "text/plain": [
       "array([[19, -5],\n",
       "       [-3, -3]])"
      ]
     },
     "execution_count": 13,
     "metadata": {},
     "output_type": "execute_result"
    }
   ],
   "source": [
    "np.dot(matrixA, matrixB)"
   ]
  }
 ],
 "metadata": {
  "kernelspec": {
   "display_name": "Python 3",
   "language": "python",
   "name": "python3"
  },
  "language_info": {
   "codemirror_mode": {
    "name": "ipython",
    "version": 3
   },
   "file_extension": ".py",
   "mimetype": "text/x-python",
   "name": "python",
   "nbconvert_exporter": "python",
   "pygments_lexer": "ipython3",
   "version": "3.13.7"
  }
 },
 "nbformat": 4,
 "nbformat_minor": 5
}
