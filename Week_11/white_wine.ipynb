{
 "cells": [
  {
   "cell_type": "markdown",
   "id": "aa36cef8",
   "metadata": {},
   "source": [
    "Data ingestion, Preliminary Data Analysis"
   ]
  },
  {
   "cell_type": "code",
   "execution_count": 1,
   "id": "4cba783a",
   "metadata": {},
   "outputs": [],
   "source": [
    "%%capture\n",
    "\n",
    "%pip install seaborn matplotlib pandas"
   ]
  },
  {
   "cell_type": "code",
   "execution_count": 2,
   "id": "9b1e8317",
   "metadata": {},
   "outputs": [],
   "source": [
    "import seaborn as sns\n",
    "import matplotlib.pyplot as plt\n",
    "import zipfile\n",
    "import pandas as pd\n",
    "import numpy as np\n",
    "import os \n"
   ]
  },
  {
   "cell_type": "code",
   "execution_count": 3,
   "id": "99b91d28",
   "metadata": {},
   "outputs": [],
   "source": [
    "# zip_path = r\"https://archive.ics.uci.edu/static/public/186/wine+quality.zip\"\n",
    "\n"
   ]
  },
  {
   "cell_type": "code",
   "execution_count": 4,
   "id": "8c7c05a0",
   "metadata": {},
   "outputs": [
    {
     "ename": "FileNotFoundError",
     "evalue": "[Errno 2] No such file or directory: 'C:\\\\Users\\\\THINKPAD\\\\Desktop\\\\LM\\\\6-weeks-Introductory-AI-course\\\\Machine_Learning\\\\Datasets\\\\wine+quality.zip'",
     "output_type": "error",
     "traceback": [
      "\u001b[31m---------------------------------------------------------------------------\u001b[39m",
      "\u001b[31mFileNotFoundError\u001b[39m                         Traceback (most recent call last)",
      "\u001b[36mCell\u001b[39m\u001b[36m \u001b[39m\u001b[32mIn[4]\u001b[39m\u001b[32m, line 3\u001b[39m\n\u001b[32m      1\u001b[39m zip_path = \u001b[33mr\u001b[39m\u001b[33m\"\u001b[39m\u001b[33mC:\u001b[39m\u001b[33m\\\u001b[39m\u001b[33mUsers\u001b[39m\u001b[33m\\\u001b[39m\u001b[33mTHINKPAD\u001b[39m\u001b[33m\\\u001b[39m\u001b[33mDesktop\u001b[39m\u001b[33m\\\u001b[39m\u001b[33mLM\u001b[39m\u001b[33m\\\u001b[39m\u001b[33m6-weeks-Introductory-AI-course\u001b[39m\u001b[33m\\\u001b[39m\u001b[33mMachine_Learning\u001b[39m\u001b[33m\\\u001b[39m\u001b[33mDatasets\u001b[39m\u001b[33m\\\u001b[39m\u001b[33mwine+quality.zip\u001b[39m\u001b[33m\"\u001b[39m\n\u001b[32m----> \u001b[39m\u001b[32m3\u001b[39m \u001b[38;5;28;01mwith\u001b[39;00m \u001b[43mzipfile\u001b[49m\u001b[43m.\u001b[49m\u001b[43mZipFile\u001b[49m\u001b[43m(\u001b[49m\u001b[43mzip_path\u001b[49m\u001b[43m,\u001b[49m\u001b[43m \u001b[49m\u001b[33;43m'\u001b[39;49m\u001b[33;43mr\u001b[39;49m\u001b[33;43m'\u001b[39;49m\u001b[43m)\u001b[49m \u001b[38;5;28;01mas\u001b[39;00m zip_ref:\n\u001b[32m      4\u001b[39m     zip_ref.printdir()\n\u001b[32m      5\u001b[39m     \u001b[38;5;66;03m#zip_ref.extractall(\"Datasets\")\u001b[39;00m\n",
      "\u001b[36mFile \u001b[39m\u001b[32mc:\\Users\\oluwatoyin\\AppData\\Local\\Programs\\Python\\Python313\\Lib\\zipfile\\__init__.py:1367\u001b[39m, in \u001b[36mZipFile.__init__\u001b[39m\u001b[34m(self, file, mode, compression, allowZip64, compresslevel, strict_timestamps, metadata_encoding)\u001b[39m\n\u001b[32m   1365\u001b[39m \u001b[38;5;28;01mwhile\u001b[39;00m \u001b[38;5;28;01mTrue\u001b[39;00m:\n\u001b[32m   1366\u001b[39m     \u001b[38;5;28;01mtry\u001b[39;00m:\n\u001b[32m-> \u001b[39m\u001b[32m1367\u001b[39m         \u001b[38;5;28mself\u001b[39m.fp = \u001b[43mio\u001b[49m\u001b[43m.\u001b[49m\u001b[43mopen\u001b[49m\u001b[43m(\u001b[49m\u001b[43mfile\u001b[49m\u001b[43m,\u001b[49m\u001b[43m \u001b[49m\u001b[43mfilemode\u001b[49m\u001b[43m)\u001b[49m\n\u001b[32m   1368\u001b[39m     \u001b[38;5;28;01mexcept\u001b[39;00m \u001b[38;5;167;01mOSError\u001b[39;00m:\n\u001b[32m   1369\u001b[39m         \u001b[38;5;28;01mif\u001b[39;00m filemode \u001b[38;5;129;01min\u001b[39;00m modeDict:\n",
      "\u001b[31mFileNotFoundError\u001b[39m: [Errno 2] No such file or directory: 'C:\\\\Users\\\\THINKPAD\\\\Desktop\\\\LM\\\\6-weeks-Introductory-AI-course\\\\Machine_Learning\\\\Datasets\\\\wine+quality.zip'"
     ]
    }
   ],
   "source": [
    "zip_path = r\"C:\\Users\\THINKPAD\\Desktop\\LM\\6-weeks-Introductory-AI-course\\Machine_Learning\\Datasets\\wine+quality.zip\"\n",
    "\n",
    "with zipfile.ZipFile(zip_path, 'r') as zip_ref:\n",
    "    zip_ref.printdir()\n",
    "    #zip_ref.extractall(\"Datasets\")"
   ]
  },
  {
   "cell_type": "code",
   "execution_count": null,
   "id": "72003f7e",
   "metadata": {},
   "outputs": [],
   "source": []
  }
 ],
 "metadata": {
  "kernelspec": {
   "display_name": "Python 3",
   "language": "python",
   "name": "python3"
  },
  "language_info": {
   "codemirror_mode": {
    "name": "ipython",
    "version": 3
   },
   "file_extension": ".py",
   "mimetype": "text/x-python",
   "name": "python",
   "nbconvert_exporter": "python",
   "pygments_lexer": "ipython3",
   "version": "3.13.7"
  }
 },
 "nbformat": 4,
 "nbformat_minor": 5
}
