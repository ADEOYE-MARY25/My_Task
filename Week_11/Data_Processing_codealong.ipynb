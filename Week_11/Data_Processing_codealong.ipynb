{
 "cells": [
  {
   "cell_type": "code",
   "execution_count": null,
   "id": "a1787e8f",
   "metadata": {},
   "outputs": [],
   "source": [
    "# lets import our dataset from scikit-learn\n",
    "from sklearn.datasets import load_iris"
   ]
  },
  {
   "cell_type": "code",
   "execution_count": null,
   "id": "031c0c15",
   "metadata": {},
   "outputs": [],
   "source": [
    "# Assignment\n",
    "\n"
   ]
  }
 ],
 "metadata": {
  "language_info": {
   "name": "python"
  }
 },
 "nbformat": 4,
 "nbformat_minor": 5
}
