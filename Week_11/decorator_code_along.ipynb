{
 "cells": [
  {
   "cell_type": "markdown",
   "id": "96a44122",
   "metadata": {},
   "source": [
    "## DECORATOR"
   ]
  },
  {
   "cell_type": "code",
   "execution_count": 149,
   "id": "b46ebe6b",
   "metadata": {},
   "outputs": [
    {
     "name": "stdout",
     "output_type": "stream",
     "text": [
      "welcome to our shop!\n",
      "shopkeeper says: welcome to our shop!\n"
     ]
    }
   ],
   "source": [
    "def greet_customer():\n",
    "    return \"welcome to our shop!\"\n",
    "\n",
    "# You can assign functions to variables\n",
    "my_greeting = greet_customer\n",
    "print(my_greeting()) # Welcome to our shop!\n",
    "\n",
    "# You can pass functions as arguments\n",
    "def use_greeting(greeting_func):\n",
    "    return f\"shopkeeper says: {greeting_func()}\"\n",
    "\n",
    "print(use_greeting(greet_customer))\n",
    "\n",
    "# Shopkeeper says: Welcome to our shop!"
   ]
  },
  {
   "cell_type": "markdown",
   "id": "b1aed729",
   "metadata": {},
   "source": [
    "## LETS CREATE OUR FIRST DECORATOR"
   ]
  },
  {
   "cell_type": "code",
   "execution_count": 150,
   "id": "dfb4f984",
   "metadata": {},
   "outputs": [],
   "source": [
    "def add_nigerian_politeness(original_function):\n",
    "    \"\"\"This decorator adds Nigerian politeness to any greeting\"\"\"\n",
    "    def wrapper():\n",
    "        result = original_function()\n",
    "        return f\"Good morning ooo! {result} How is family? \"\n",
    "    return wrapper\n",
    "\n",
    "# Original simple greeting\n",
    "def basic_greeting():\n",
    "    return \"Hello\""
   ]
  },
  {
   "cell_type": "code",
   "execution_count": 151,
   "id": "c3382e7b",
   "metadata": {},
   "outputs": [
    {
     "name": "stdout",
     "output_type": "stream",
     "text": [
      "Good morning ooo! Hello How is family? \n"
     ]
    }
   ],
   "source": [
    "# Apply the decorators manually\n",
    "polite_greeting = add_nigerian_politeness(basic_greeting)\n",
    "print(polite_greeting())"
   ]
  },
  {
   "cell_type": "code",
   "execution_count": 152,
   "id": "76f3653b",
   "metadata": {},
   "outputs": [
    {
     "name": "stdout",
     "output_type": "stream",
     "text": [
      "Good morning ooo! Welcome to my provision store How is family? \n"
     ]
    }
   ],
   "source": [
    "# Using the @ symbol (syntactactic sugar)\n",
    "@add_nigerian_politeness\n",
    "def shop_greeting():\n",
    "    return \"Welcome to my provision store\"\n",
    "\n",
    "print(shop_greeting())"
   ]
  },
  {
   "cell_type": "code",
   "execution_count": 153,
   "id": "b2ee06bc",
   "metadata": {},
   "outputs": [],
   "source": [
    "# This comes with arguments\n",
    "# Sometimes you want to pass information to your decorators"
   ]
  },
  {
   "cell_type": "code",
   "execution_count": 154,
   "id": "fe0db039",
   "metadata": {},
   "outputs": [],
   "source": [
    "def add_nigerian_time_greeting(time_of_day):\n",
    "    \"\"\"Decorator that adds appropriate Nigerian greeting based on time\"\"\"\n",
    "    def decorator(original_function):\n",
    "        def wrapper():\n",
    "            if time_of_day == \"morning\":\n",
    "                greeting = \"Good morning ooo!\"\n",
    "            elif time_of_day ==\"afternoon\":\n",
    "                greeting = \"Good afternoon!\"\n",
    "            elif time_of_day == \"evening\":\n",
    "                greeting = \"Good evening ooo!\"\n",
    "            else:\n",
    "                greeting = \"How far!\"\n",
    "\n",
    "            result = original_function()\n",
    "            return f\"{greeting} {result}\"\n",
    "        return wrapper\n",
    "    return decorator\n",
    "                \n"
   ]
  },
  {
   "cell_type": "code",
   "execution_count": 155,
   "id": "8bb6f0f9",
   "metadata": {},
   "outputs": [],
   "source": [
    "# Using the decorator with different times\n",
    "@add_nigerian_time_greeting(\"morning\")\n",
    "def market_greeting():\n",
    "    return \"Welcome to our shop. How can we help you today?\""
   ]
  },
  {
   "cell_type": "code",
   "execution_count": 156,
   "id": "3ca4313e",
   "metadata": {},
   "outputs": [],
   "source": [
    "@add_nigerian_time_greeting(\"evening\")\n",
    "def restaurant_greeting():\n",
    "    return \"Welcome to our restaurant. What would you like to eat?\""
   ]
  },
  {
   "cell_type": "code",
   "execution_count": 158,
   "id": "9bd34cdb",
   "metadata": {},
   "outputs": [
    {
     "name": "stdout",
     "output_type": "stream",
     "text": [
      "Good morning ooo! Welcome to our shop. How can we help you today?\n",
      "Good evening ooo! Welcome to our restaurant. What would you like to eat?\n"
     ]
    }
   ],
   "source": [
    "print(market_greeting())      # Good morning ooo! Welcome to our shop. How can we help you today?\n",
    "print(restaurant_greeting()) # Good evening ooo! Welcome to our restaurant. What would you like to eat"
   ]
  },
  {
   "cell_type": "markdown",
   "id": "2d6cd8b0",
   "metadata": {},
   "source": [
    "## more_example_3"
   ]
  },
  {
   "cell_type": "code",
   "execution_count": 160,
   "id": "2c953f4e",
   "metadata": {},
   "outputs": [],
   "source": [
    "def naira_formatter(currency_symbol=\"₦\"):\n",
    "    \"\"\"Decorator to format prices in Nigerian Naira\"\"\"\n",
    "    def decorator(price_function):\n",
    "        def wrapper(*args, **kwargs):\n",
    "            price = price_function(*args, **kwargs)\n",
    "            return f\"{currency_symbol}{price:,}\"\n",
    "        return wrapper\n",
    "    return decorator"
   ]
  },
  {
   "cell_type": "code",
   "execution_count": 163,
   "id": "3be999b5",
   "metadata": {},
   "outputs": [],
   "source": [
    "@naira_formatter(\"₦\")\n",
    "def rice_price():\n",
    "    return 2500"
   ]
  },
  {
   "cell_type": "code",
   "execution_count": 162,
   "id": "8ce26849",
   "metadata": {},
   "outputs": [],
   "source": [
    "@naira_formatter(\"₦\")\n",
    "def calculate_transport_fare(distance_km):\n",
    "    base_fare = 200\n",
    "    per_km = 50\n",
    "    return base_fare + (distance_km * per_km)"
   ]
  },
  {
   "cell_type": "code",
   "execution_count": 164,
   "id": "afb8aa6b",
   "metadata": {},
   "outputs": [
    {
     "name": "stdout",
     "output_type": "stream",
     "text": [
      "₦2,500\n",
      "₦450\n"
     ]
    }
   ],
   "source": [
    "print(rice_price())\n",
    "print(calculate_transport_fare(5))"
   ]
  },
  {
   "cell_type": "markdown",
   "id": "3e0117e0",
   "metadata": {},
   "source": [
    "## _more example_4"
   ]
  },
  {
   "cell_type": "code",
   "execution_count": null,
   "id": "7cb625a5",
   "metadata": {},
   "outputs": [],
   "source": [
    "# Shop Transaction Logger\n",
    "\n",
    "# from datetime import"
   ]
  }
 ],
 "metadata": {
  "kernelspec": {
   "display_name": "Python 3",
   "language": "python",
   "name": "python3"
  },
  "language_info": {
   "codemirror_mode": {
    "name": "ipython",
    "version": 3
   },
   "file_extension": ".py",
   "mimetype": "text/x-python",
   "name": "python",
   "nbconvert_exporter": "python",
   "pygments_lexer": "ipython3",
   "version": "3.13.7"
  }
 },
 "nbformat": 4,
 "nbformat_minor": 5
}
