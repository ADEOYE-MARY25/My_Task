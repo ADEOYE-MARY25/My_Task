{
 "cells": [
  {
   "cell_type": "markdown",
   "id": "5cf6f1f7",
   "metadata": {},
   "source": [
    " CLASS TASK 5\n",
    "\n",
    " Given the following concepts:\n",
    "\n",
    " Chi-square test (for categorical data),\n",
    "  The chi-square test is a statistical tool used in research  for detecting relationships between two categorical variables.It can also be used to determine association between two qualitative variables to  get thier  statistically significant by comparing observed data to expected frequencies.\n",
    "\n",
    "  There are two Types:\n",
    "The Goodness-of-Fit Test for a single categorical variable: it can be used to determine if the frequency distribution of a single categorical variable matches an expected or theoretical distribution. Examples, comparing the proportion of votes for different political parties toi the expected proportion based on past election results\n",
    "\n",
    "The Test of independence for two categorical variables. This can be use to test whether two categorical variable matches an expected proportioin based on past election results. Example, analysing if there ia a relationship  between a person's gender and thier preference for a particular product.\n",
    "\n",
    "Categoorical Data are data that can be divided into distinct groups or categories, such gender (male/female), political party, or level of satisfaction (high/medium/low).\n",
    "\n",
    "The formula for the chi-square statistic (χ²) is χ² = Σ [(Oᵢ - Eᵢ)² / Eᵢ], \n",
    "where 'O' represents the observed frequency in a category \n",
    "'E' is the expected frequency if the variables were independent. \n",
    "\n",
    "Researchers use this test to compare observed counts in a dataset to expected counts, assessing whether differences are due to chance or an actual association between the variable\n",
    "\n",
    "\n",
    "\n"
   ]
  },
  {
   "cell_type": "markdown",
   "id": "728bcf7e",
   "metadata": {},
   "source": [
    "ANOVA (for comparing more than two means),\n",
    "\n",
    "ANOVA, or Analysis of Variance is a statistical test that compare the means of more than two groups to determine if there are any statistically significant differences between them.\n",
    "Instead of conducting  multiple-t-test (which can inflate the risk of false positives),ANOVA uses an F-test to compare the variance between groups to the \n"
   ]
  }
 ],
 "metadata": {
  "language_info": {
   "name": "python"
  }
 },
 "nbformat": 4,
 "nbformat_minor": 5
}
