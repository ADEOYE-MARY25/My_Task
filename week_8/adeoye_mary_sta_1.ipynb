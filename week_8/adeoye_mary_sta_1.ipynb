{
 "cells": [
  {
   "cell_type": "markdown",
   "id": "7d3b6bb0",
   "metadata": {},
   "source": [
    " The following are the Mathematics test scores (out of 20) for a class of 15 students:\n",
    "  5, 8, 10, 12, 12, 12, 13, 14, 14, 15, 16, 18, 18, 20, 20\n",
    "1. Find the mean, median, and mode of the scores.\n",
    "mean=  [5 + 8 + 10 + 12 + 12 + 12 + 13 + 14 + 14 + 15 + 16 + 18 + 18 + 20 + 20]\n",
    "mean=207/15\n",
    "mean=13.8\n",
    "\n",
    "median=  5, 8, 10, 12, 12, 12, 13, 14, 14, 15, 16, 18, 18, 20, 20\n",
    "median= 14   # 8th value\n",
    "\n",
    "\n",
    "mode=  5, 8, 10, 12, 12, 12, 13, 14, 14, 15, 16, 18, 18, 20, 20\n",
    "mode= 12  #it appears most frequently\n",
    "\n",
    "\n",
    "\n",
    "2. If the lowest score (5) was wrongly recorded and should have been 10, how would the mean change? Would the median or mode change? Explain.\n",
    "if 5 is replaced with 10\n",
    "mean=  10, 8, 10, 12, 12, 12, 13, 14, 14, 15, 16, 18, 18, 20, 20\n",
    "mean= 212/15\n",
    "mean= 14.1     # there is changes in the value of the mean\n",
    "\n",
    "The median will still remain the same and the mode will still remain the same because there is no double occurance of 10 in the given value above.\n"
   ]
  },
  {
   "cell_type": "markdown",
   "id": "5a8d9128",
   "metadata": {
    "vscode": {
     "languageId": "plaintext"
    }
   },
   "source": [
    "2: Daily Commute Times\n",
    "A group of 9 students reported the time (in minutes) it takes them to get to school each day:\n",
    " 15, 20, 20, 25, 25, 30, 60, 65, 120\n",
    "Find the mean, median, and mode of the data.\n",
    "mean= 15 + 20 + 20 + 25 + 25 + 30 + 60 + 65 + 120\n",
    "mean= 380/9\n",
    "mean= 42.2\n",
    "\n",
    " median\n",
    "median=15, 20, 20, 25, 25, 30, 60, 65, 120\n",
    "median= 25\n",
    "\n",
    " mode\n",
    "mode= 15, 20, 20, 25, 25, 30, 60, 65, 120\n",
    "mode= 20, 25\n",
    "mode=  note the  data is bimodal\n",
    "\n",
    "\n",
    "Which measure (mean, median, or mode) do you think best represents the “typical” time it takes students to get to school? Why?\n",
    "\n",
    "median\n",
    "Based on the data above, i will say that median will best represent the time students get to school. It is not affected by extreme values and it help to get 50% of the data \n",
    " (Hint: Think about the effect of the student who takes 120 minutes.)\n",
    "\n",
    "\n"
   ]
  },
  {
   "cell_type": "markdown",
   "id": "73de8100",
   "metadata": {
    "vscode": {
     "languageId": "plaintext"
    }
   },
   "source": [
    "3: Shoe Sizes\n",
    "The shoe sizes of students in a class are:\n",
    " 38, 39, 38, 40, 41, 42, 39, 39, 40, 38, 37, 39, 40, 41, 42\n",
    " 1.Find the mode of the data.\n",
    "mode=  38, 39, 38, 40, 41, 42, 39, 39, 40, 38, 37, 39, 40, 41, 42\n",
    "mode= 39\n",
    "\n",
    "\n",
    " 2. If a shoe company wants to donate free shoes, which size should they produce most of? Why?\n",
    "If a shoe company wants to donate free shoes, it is advisible for them to produce size 39 because the numbers of people wearing shoes of size 39  is more than the other sizes. This validate mode\n",
    "\n",
    "\n",
    "3. What if they only want to produce one size that would fit the \"average\" student? Should they use mean, median, or mode? Defend your answer.\n",
    "Mean\n",
    "if the shoe company want to produce average size of shoes for students, mean will help them get the appropraite average size of shoe which should be 39.5\n",
    "\n",
    "mean= 38 + 39 + 38 + 40 + 41 + 42 + 39 + 39 + 40 + 38 + 37 + 39 + 40 + 41 + 42\n",
    "mean= 593/15\n",
    "mean=39.5\n",
    "\n",
    "mode=39\n",
    "\n",
    "Mode will help the company to know the size of shoes most students wear. It can be used for norminal, ordinal and numerical data.\n",
    "Therefore i will advice the company to use mean because mean is sensitive to extreme values.\n",
    " \n",
    "\n",
    "\n"
   ]
  }
 ],
 "metadata": {
  "language_info": {
   "name": "python"
  }
 },
 "nbformat": 4,
 "nbformat_minor": 5
}
