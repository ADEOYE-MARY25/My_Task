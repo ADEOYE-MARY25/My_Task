{
 "cells": [
  {
   "cell_type": "markdown",
   "id": "e18e2614",
   "metadata": {},
   "source": [
    "Class Task 2\n",
    "Calculate the variance of the data points given in the Range slide: 4, 8, 6, 5, 3\n",
    "\n",
    "mean= 4 + 8 + 6 + 5 + 3 = 26/5\n",
    "mean= 5.2\n",
    "\n",
    "|xi | xi- x̄)|=   |(x- x̄)^2)|\n",
    "|--|------|----|----|\n",
    "|4 |4- 5.2|-1.2|1.44|\n",
    "|8 |8- 5.2| 2.8|7.84|\n",
    "|6 |6- 5.2| 0.8|0.64|\n",
    "|5 |5- 5.2|-0.2|0.04|\n",
    "|3 |3- 5.2|-2.2|4.84|\n",
    "\n",
    "variance=  \n",
    "Formula: σ² = Σ(xᵢ - μ)² /n\n",
    "\n",
    "(x-x̄)^2= 14.8\n",
    "\n",
    "variance=14.8/5\n",
    "\n",
    "variance= 2.96\n",
    "\n",
    "\n",
    "\n"
   ]
  }
 ],
 "metadata": {
  "language_info": {
   "name": "python"
  }
 },
 "nbformat": 4,
 "nbformat_minor": 5
}
