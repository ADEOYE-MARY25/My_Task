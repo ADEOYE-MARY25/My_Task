{
 "cells": [
  {
   "cell_type": "markdown",
   "id": "9c7a765c",
   "metadata": {},
   "source": [
    "Python Typing"
   ]
  },
  {
   "cell_type": "code",
   "execution_count": null,
   "id": "26bdd0ea",
   "metadata": {},
   "outputs": [],
   "source": [
    "# example\n",
    "\n",
    "def getfellows_names(fellow: list[str]) -> list[str]:\n",
    "    return fellow\n",
    "\n",
    "# This mean that every value in the list should be strings\n"
   ]
  },
  {
   "cell_type": "code",
   "execution_count": null,
   "id": "acb5382c",
   "metadata": {},
   "outputs": [],
   "source": [
    "def get_average(name: str, scores: list[float]) -> float:\n",
    "    average_score = sum(scores)/len(scores)\n",
    "    print(f\"{name}'s average score is {average_score}\")\n",
    "    return average_score \n",
    "\n",
    "# name: str - The parameter name must be a string\n",
    "# scores: list[int] - The argument scores must be a list containing integers.\n",
    "#float - The function must return a floating point numberx"
   ]
  },
  {
   "cell_type": "code",
   "execution_count": null,
   "id": "9efe1eb9",
   "metadata": {},
   "outputs": [],
   "source": [
    "def greet(name: str) -> None:\n",
    "    print(f\"Hello, {name}\")"
   ]
  }
 ],
 "metadata": {
  "language_info": {
   "name": "python"
  }
 },
 "nbformat": 4,
 "nbformat_minor": 5
}
