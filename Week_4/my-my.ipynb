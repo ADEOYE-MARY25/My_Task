{
 "cells": [
  {
   "cell_type": "code",
   "execution_count": 1,
   "id": "cc7ddd66",
   "metadata": {},
   "outputs": [],
   "source": [
    "# import all neccessary libraries\n",
    "import numpy as np\n",
    "import matplotlib.pyplot as plt\n",
    "import time"
   ]
  },
  {
   "cell_type": "code",
   "execution_count": 2,
   "id": "78545bc1",
   "metadata": {},
   "outputs": [
    {
     "name": "stdout",
     "output_type": "stream",
     "text": [
      "Numpy version: 2.3.3\n"
     ]
    }
   ],
   "source": [
    "# To check Numpy version\n",
    "print(f\"Numpy version: {np.__version__}\") "
   ]
  },
  {
   "cell_type": "code",
   "execution_count": null,
   "id": "a77447e8",
   "metadata": {},
   "outputs": [
    {
     "ename": "SyntaxError",
     "evalue": "invalid decimal literal (2918659198.py, line 4)",
     "output_type": "error",
     "traceback": [
      "  \u001b[36mCell\u001b[39m\u001b[36m \u001b[39m\u001b[32mIn[3]\u001b[39m\u001b[32m, line 4\u001b[39m\n\u001b[31m    \u001b[39m\u001b[31m1d = np.array([1, 2, 3, 4, 5])\u001b[39m\n    ^\n\u001b[31mSyntaxError\u001b[39m\u001b[31m:\u001b[39m invalid decimal literal\n"
     ]
    }
   ],
   "source": [
    "# creating a numpy arrays\n",
    "# creating array from python lists\n",
    "# array: A simple sequences of numbers \n",
    "arrd1 = np.array([1, 2, 3, 4, 5])\n",
    "\n",
    "arrd2 = np.array([[1, 2, 3],\n",
    "               [4, 5, 6]])\n",
    "arrd3 = np.array([[[1, 2], [3, 4]],\n",
    "                [[5, 6], [7, 8]]])"
   ]
  },
  {
   "cell_type": "code",
   "execution_count": null,
   "id": "1dc51f94",
   "metadata": {},
   "outputs": [],
   "source": [
    "# creating 1D, 2D and 3D array\n",
    "arrd1=np.array([1, 2, 3, 4, 5, 6])\n",
    "\n",
    "arrd2=np.array()"
   ]
  }
 ],
 "metadata": {
  "kernelspec": {
   "display_name": "Python 3",
   "language": "python",
   "name": "python3"
  },
  "language_info": {
   "codemirror_mode": {
    "name": "ipython",
    "version": 3
   },
   "file_extension": ".py",
   "mimetype": "text/x-python",
   "name": "python",
   "nbconvert_exporter": "python",
   "pygments_lexer": "ipython3",
   "version": "3.13.7"
  }
 },
 "nbformat": 4,
 "nbformat_minor": 5
}
