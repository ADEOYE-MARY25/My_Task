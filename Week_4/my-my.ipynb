{
 "cells": [
  {
   "cell_type": "code",
   "execution_count": 65,
   "id": "cc7ddd66",
   "metadata": {},
   "outputs": [],
   "source": [
    "# import all neccessary libraries\n",
    "import numpy as np\n",
    "import matplotlib.pyplot as plt\n",
    "import time"
   ]
  },
  {
   "cell_type": "code",
   "execution_count": null,
   "id": "a70d8733",
   "metadata": {},
   "outputs": [],
   "source": []
  },
  {
   "cell_type": "code",
   "execution_count": 66,
   "id": "78545bc1",
   "metadata": {},
   "outputs": [
    {
     "name": "stdout",
     "output_type": "stream",
     "text": [
      "Numpy version: 2.3.3\n"
     ]
    }
   ],
   "source": [
    "# To check Numpy version\n",
    "print(f\"Numpy version: {np.__version__}\") "
   ]
  },
  {
   "cell_type": "code",
   "execution_count": 67,
   "id": "a77447e8",
   "metadata": {},
   "outputs": [],
   "source": [
    "# creating a numpy arrays\n",
    "# creating array from python lists\n",
    "# array: A simple sequences of numbers \n",
    "arrd1 = np.array([1, 2, 3, 4, 5])\n",
    "\n",
    "arrd2 = np.array([[1, 2, 3],\n",
    "               [4, 5, 6]])\n",
    "arrd3 = np.array([[[1, 2], [3, 4]],\n",
    "                [[5, 6], [7, 8]]])"
   ]
  },
  {
   "cell_type": "code",
   "execution_count": 68,
   "id": "1dc51f94",
   "metadata": {},
   "outputs": [
    {
     "ename": "TypeError",
     "evalue": "array() missing required argument 'object' (pos 0)",
     "output_type": "error",
     "traceback": [
      "\u001b[31m---------------------------------------------------------------------------\u001b[39m",
      "\u001b[31mTypeError\u001b[39m                                 Traceback (most recent call last)",
      "\u001b[36mCell\u001b[39m\u001b[36m \u001b[39m\u001b[32mIn[68]\u001b[39m\u001b[32m, line 4\u001b[39m\n\u001b[32m      1\u001b[39m \u001b[38;5;66;03m# creating 1D, 2D and 3D array\u001b[39;00m\n\u001b[32m      2\u001b[39m arrd1=np.array([\u001b[32m1\u001b[39m, \u001b[32m2\u001b[39m, \u001b[32m3\u001b[39m, \u001b[32m4\u001b[39m, \u001b[32m5\u001b[39m, \u001b[32m6\u001b[39m])\n\u001b[32m----> \u001b[39m\u001b[32m4\u001b[39m arrd2=\u001b[43mnp\u001b[49m\u001b[43m.\u001b[49m\u001b[43marray\u001b[49m\u001b[43m(\u001b[49m\u001b[43m)\u001b[49m\n",
      "\u001b[31mTypeError\u001b[39m: array() missing required argument 'object' (pos 0)"
     ]
    }
   ],
   "source": [
    "# creating 1D, 2D and 3D array\n",
    "arrd1=np.array([1, 2, 3, 4, 5, 6])\n",
    "\n",
    "arrd2=np.array()"
   ]
  },
  {
   "cell_type": "code",
   "execution_count": null,
   "id": "e4aeeb0e",
   "metadata": {},
   "outputs": [
    {
     "name": "stdout",
     "output_type": "stream",
     "text": [
      "[[18 42 11 47  3 21]\n",
      " [30 46 13 23 40 49]\n",
      " [20  9 20 30  7 22]\n",
      " [ 7 27 26 42 24 36]\n",
      " [16 14 27 35 16 10]\n",
      " [ 8 48  2 41  1 18]]\n"
     ]
    }
   ],
   "source": [
    "import numpy as np\n",
    "arr= np.random.randint(50, size=[6, 6])\n",
    "print(arr)"
   ]
  },
  {
   "cell_type": "code",
   "execution_count": null,
   "id": "b858eb7c",
   "metadata": {},
   "outputs": [],
   "source": []
  },
  {
   "cell_type": "code",
   "execution_count": null,
   "id": "014ee922",
   "metadata": {},
   "outputs": [],
   "source": []
  },
  {
   "cell_type": "code",
   "execution_count": null,
   "id": "ecbdf1a7",
   "metadata": {},
   "outputs": [
    {
     "name": "stdout",
     "output_type": "stream",
     "text": [
      "[[13 15 24 43 12 42]\n",
      " [46 26 39 27 38 11]]\n",
      "[[43 12 42]\n",
      " [27 38 11]\n",
      " [32 17 45]\n",
      " [31 32 22]\n",
      " [26 44 21]\n",
      " [ 8 40  2]]\n"
     ]
    }
   ],
   "source": [
    "# the first two and the last three columns\n",
    "# all even numbers\n",
    "# first_two_rows=arr[0:3]\n",
    "# print(first_two_rows)\n",
    "last_c=arr[0:2, 0:6]\n",
    "print(last_c)\n",
    "last_b=arr[0:6, 3:6]\n",
    "print(last_b)\n"
   ]
  },
  {
   "cell_type": "code",
   "execution_count": null,
   "id": "f3b1fca9",
   "metadata": {},
   "outputs": [
    {
     "name": "stdout",
     "output_type": "stream",
     "text": [
      "[24 12 42 46 26 38 14 14 32 18  0 32 22 26 44 22 46  0  8 40  2]\n"
     ]
    }
   ],
   "source": [
    "evens=arr[arr % 2 ==0]\n",
    "print(evens)"
   ]
  },
  {
   "cell_type": "code",
   "execution_count": null,
   "id": "4650b51f",
   "metadata": {},
   "outputs": [
    {
     "name": "stdout",
     "output_type": "stream",
     "text": [
      "[[[13 15 24 43 12 42]\n",
      "  [46 26 39 27 38 11]]\n",
      "\n",
      " [[14 25 14 32 17 45]\n",
      "  [15 18  0 31 32 22]]\n",
      "\n",
      " [[29  9 21 26 44 21]\n",
      "  [22 46  0  8 40  2]]]\n",
      "[13 15 24 43 12 42 46 26 39 27 38 11 14 25 14 32 17 45 15 18  0 31 32 22\n",
      " 29  9 21 26 44 21 22 46  0  8 40  2]\n"
     ]
    }
   ],
   "source": [
    "reshaped=arr.reshape(3, 2, 6)\n",
    "print(reshaped)\n",
    "flat=arr.flatten()\n",
    "print(flat)"
   ]
  },
  {
   "cell_type": "code",
   "execution_count": null,
   "id": "9a5ddce0",
   "metadata": {},
   "outputs": [
    {
     "name": "stdout",
     "output_type": "stream",
     "text": [
      "[[1. 0. 0. 0.]\n",
      " [0. 1. 0. 0.]\n",
      " [0. 0. 1. 0.]\n",
      " [0. 0. 0. 1.]]\n",
      "[[10  0  0  0]\n",
      " [ 0 20  0  0]\n",
      " [ 0  0 30  0]\n",
      " [ 0  0  0 40]]\n",
      "[[6 6 6 6]\n",
      " [6 6 6 6]\n",
      " [6 6 6 6]]\n"
     ]
    }
   ],
   "source": [
    "matrix_identity=np.eye(4)\n",
    "print(matrix_identity)\n",
    "dia=np.diag([10, 20, 30, 40])\n",
    "print(dia)\n",
    "full=np.full((3, 4), 6)\n",
    "print(full)"
   ]
  },
  {
   "cell_type": "code",
   "execution_count": null,
   "id": "7c26509e",
   "metadata": {},
   "outputs": [
    {
     "name": "stdout",
     "output_type": "stream",
     "text": [
      "[[ 324 1764   -1   -1   -1   -1]\n",
      " [ 900 2116   -1   -1 1600   -1]\n",
      " [ 400   -1  400  900   -1  484]\n",
      " [  -1   -1  676 1764  576 1296]\n",
      " [ 256  196   -1   -1  256  100]\n",
      " [  64 2304    4   -1   -1  324]]\n"
     ]
    }
   ],
   "source": [
    "def generatte_array(arr):\n",
    "    arr=np.where(arr % 2 ==0,arr**2, -1)\n",
    "    print(f\"{arr}\")\n",
    "generatte_array(arr) "
   ]
  },
  {
   "cell_type": "code",
   "execution_count": null,
   "id": "35a94421",
   "metadata": {},
   "outputs": [
    {
     "name": "stdout",
     "output_type": "stream",
     "text": [
      "[[ 324 1764   -1   -1   -1   -1]\n",
      " [ 900 2116   -1   -1 1600   -1]\n",
      " [ 400   -1  400  900   -1  484]\n",
      " [  -1   -1  676 1764  576 1296]\n",
      " [ 256  196   -1   -1  256  100]\n",
      " [  64 2304    4   -1   -1  324]]\n",
      "[[1. 0. 0. 0.]\n",
      " [0. 1. 0. 0.]\n",
      " [0. 0. 1. 0.]\n",
      " [0. 0. 0. 1.]]\n",
      "[[10  0  0  0]\n",
      " [ 0 20  0  0]\n",
      " [ 0  0 30  0]\n",
      " [ 0  0  0 40]]\n"
     ]
    }
   ],
   "source": [
    "# 6. create a function that takes a 2D Numpy array as input and returns a new array where: All even numbers are squared.\n",
    "# All odd numbers are replaced by -1\n",
    "import numpy as np\n",
    "def generate_array(arr):\n",
    "    arr=np.where(arr % 2 ==0, arr**2, -1)\n",
    "    print(arr)\n",
    "generate_array(arr)    \n",
    "    \n",
    "# 4. diagonal identification of matrix and replacing  the diagonal with numbers from 10 to 40\n",
    "matrix=np.eye(4)\n",
    "print(matrix)\n",
    "dia=np.diag([10, 20, 30, 40])\n",
    "print(dia)"
   ]
  },
  {
   "cell_type": "code",
   "execution_count": 82,
   "id": "42368518",
   "metadata": {},
   "outputs": [
    {
     "name": "stdout",
     "output_type": "stream",
     "text": [
      "[[[40 33  8  7 21  5]\n",
      "  [16 19 48 38 31  1]]\n",
      "\n",
      " [[19 12 26 16 45  8]\n",
      "  [ 1 47 17 19 37 23]]\n",
      "\n",
      " [[18 13 28 23 16  8]\n",
      "  [16 10 15 45 11 19]]]\n",
      "[40 33  8  7 21  5 16 19 48 38 31  1 19 12 26 16 45  8  1 47 17 19 37 23\n",
      " 18 13 28 23 16  8 16 10 15 45 11 19]\n"
     ]
    }
   ],
   "source": [
    "# 3. Perform the following array transformations:\n",
    "# Reshape the array into 3D (3, 2, 6)\n",
    "reshaped=matrix.reshape(3,2, 6)\n",
    "print(reshaped)\n",
    "flat=matrix.flatten()\n",
    "print(flat)\n"
   ]
  },
  {
   "cell_type": "code",
   "execution_count": null,
   "id": "d98d10d3",
   "metadata": {},
   "outputs": [],
   "source": []
  },
  {
   "cell_type": "code",
   "execution_count": null,
   "id": "d2356eed",
   "metadata": {},
   "outputs": [],
   "source": [
    "#2. Extract the following from the array you created in Question 1: \n",
    "# The first two rows.The last three columns.\n",
    "# All even numbers in the array"
   ]
  },
  {
   "cell_type": "code",
   "execution_count": 80,
   "id": "f2bf1765",
   "metadata": {},
   "outputs": [
    {
     "name": "stdout",
     "output_type": "stream",
     "text": [
      "[[7 7 5 6]\n",
      " [7 4 1 8]\n",
      " [8 6 9 7]]\n",
      "[[5 4 4]\n",
      " [8 5 2]\n",
      " [4 4 7]\n",
      " [2 8 2]]\n",
      "[[ 95  75  65  90]\n",
      " [107  88  63 102]\n",
      " [112  86  87 105]\n",
      " [ 86  58  36  90]]\n",
      "[[40 33  8  7 21  5]\n",
      " [16 19 48 38 31  1]\n",
      " [19 12 26 16 45  8]\n",
      " [ 1 47 17 19 37 23]\n",
      " [18 13 28 23 16  8]\n",
      " [16 10 15 45 11 19]]\n",
      "[[40 33  8  7 21  5]\n",
      " [16 19 48 38 31  1]]\n",
      "[[ 7 21  5]\n",
      " [38 31  1]\n",
      " [16 45  8]\n",
      " [19 37 23]\n",
      " [23 16  8]\n",
      " [45 11 19]]\n",
      "[40  8 16 48 38 12 26 16  8 18 28 16  8 16 10]\n"
     ]
    }
   ],
   "source": [
    "# 5. perform matrix multiplication between: A 3x4 matrix of random integers(1-10) A 4x3#1. create a 6x6 Numpy array with integers between 1 and 50\n",
    "matrix_3x4= np.random.randint(1, 10, size=(3, 4))\n",
    "print(matrix_3x4)\n",
    "matrix_4x3=np.random.randint(1, 10, size=(4, 3))\n",
    "print(matrix_4x3)\n",
    "all=np.dot(matrix_4x3, matrix_3x4)\n",
    "print(all)\n",
    "\n",
    "#1. create a 6x6 Numpy array with integers between 1 and 50\n",
    "import numpy as np\n",
    "matrix=np.random.randint(50, size=(6, 6))\n",
    "print(matrix)\n",
    "\n",
    "first_2_row=matrix[0:2, 0:6]\n",
    "print(first_2_row)\n",
    "last=matrix[0:6, 3:6]\n",
    "print(last)\n",
    "evenss=matrix[matrix % 2 ==0]\n",
    "print(evenss)"
   ]
  },
  {
   "cell_type": "code",
   "execution_count": null,
   "id": "504eb27b",
   "metadata": {},
   "outputs": [],
   "source": []
  },
  {
   "cell_type": "code",
   "execution_count": null,
   "id": "bbeb99be",
   "metadata": {},
   "outputs": [],
   "source": []
  },
  {
   "cell_type": "code",
   "execution_count": null,
   "id": "abd090e0",
   "metadata": {},
   "outputs": [],
   "source": []
  },
  {
   "cell_type": "code",
   "execution_count": null,
   "id": "e4d45a2c",
   "metadata": {},
   "outputs": [],
   "source": []
  },
  {
   "cell_type": "code",
   "execution_count": null,
   "id": "dd805ea4",
   "metadata": {},
   "outputs": [],
   "source": []
  },
  {
   "cell_type": "code",
   "execution_count": null,
   "id": "28e91194",
   "metadata": {},
   "outputs": [],
   "source": []
  }
 ],
 "metadata": {
  "kernelspec": {
   "display_name": "Python 3",
   "language": "python",
   "name": "python3"
  },
  "language_info": {
   "codemirror_mode": {
    "name": "ipython",
    "version": 3
   },
   "file_extension": ".py",
   "mimetype": "text/x-python",
   "name": "python",
   "nbconvert_exporter": "python",
   "pygments_lexer": "ipython3",
   "version": "3.13.7"
  }
 },
 "nbformat": 4,
 "nbformat_minor": 5
}
