{
 "cells": [
  {
   "cell_type": "markdown",
   "id": "947f5d39",
   "metadata": {},
   "source": [
    "\n",
    "\n",
    "Correlation Analysis\n"
   ]
  },
  {
   "cell_type": "code",
   "execution_count": 116,
   "id": "22ae2c95",
   "metadata": {},
   "outputs": [],
   "source": [
    "# Import the necessary packages\n",
    "import pandas as pd\n",
    "import numpy as np\n",
    "import matplotlib.pyplot as plt\n",
    "import seaborn as sns"
   ]
  },
  {
   "cell_type": "code",
   "execution_count": 117,
   "id": "77e42137",
   "metadata": {},
   "outputs": [
    {
     "name": "stdout",
     "output_type": "stream",
     "text": [
      "Requirement already satisfied: gdown in c:\\users\\user322\\appdata\\local\\programs\\python\\python313\\lib\\site-packages (5.2.0)\n",
      "Requirement already satisfied: beautifulsoup4 in c:\\users\\user322\\appdata\\local\\programs\\python\\python313\\lib\\site-packages (from gdown) (4.14.2)\n",
      "Requirement already satisfied: filelock in c:\\users\\user322\\appdata\\local\\programs\\python\\python313\\lib\\site-packages (from gdown) (3.19.1)\n",
      "Requirement already satisfied: requests[socks] in c:\\users\\user322\\appdata\\local\\programs\\python\\python313\\lib\\site-packages (from gdown) (2.32.5)\n",
      "Requirement already satisfied: tqdm in c:\\users\\user322\\appdata\\local\\programs\\python\\python313\\lib\\site-packages (from gdown) (4.67.1)\n",
      "Requirement already satisfied: soupsieve>1.2 in c:\\users\\user322\\appdata\\local\\programs\\python\\python313\\lib\\site-packages (from beautifulsoup4->gdown) (2.8)\n",
      "Requirement already satisfied: typing-extensions>=4.0.0 in c:\\users\\user322\\appdata\\local\\programs\\python\\python313\\lib\\site-packages (from beautifulsoup4->gdown) (4.15.0)\n",
      "Requirement already satisfied: charset_normalizer<4,>=2 in c:\\users\\user322\\appdata\\local\\programs\\python\\python313\\lib\\site-packages (from requests[socks]->gdown) (3.4.3)\n",
      "Requirement already satisfied: idna<4,>=2.5 in c:\\users\\user322\\appdata\\local\\programs\\python\\python313\\lib\\site-packages (from requests[socks]->gdown) (3.10)\n",
      "Requirement already satisfied: urllib3<3,>=1.21.1 in c:\\users\\user322\\appdata\\local\\programs\\python\\python313\\lib\\site-packages (from requests[socks]->gdown) (2.5.0)\n",
      "Requirement already satisfied: certifi>=2017.4.17 in c:\\users\\user322\\appdata\\local\\programs\\python\\python313\\lib\\site-packages (from requests[socks]->gdown) (2025.8.3)\n",
      "Requirement already satisfied: PySocks!=1.5.7,>=1.5.6 in c:\\users\\user322\\appdata\\local\\programs\\python\\python313\\lib\\site-packages (from requests[socks]->gdown) (1.7.1)\n",
      "Requirement already satisfied: colorama in c:\\users\\user322\\appdata\\roaming\\python\\python313\\site-packages (from tqdm->gdown) (0.4.6)\n"
     ]
    }
   ],
   "source": [
    "! pip install gdown\n",
    "import gdown"
   ]
  },
  {
   "cell_type": "code",
   "execution_count": null,
   "id": "e08716f8",
   "metadata": {},
   "outputs": [
    {
     "name": "stderr",
     "output_type": "stream",
     "text": [
      "Downloading...\n",
      "From: https://drive.google.com/uc?id=1yB5qSBOLl96Y563nIewKOU8RN_gsY3dO\n",
      "To: c:\\Users\\user322\\Desktop\\cloned_task\\My_Task\\Week_9\\data.csv\n",
      "100%|██████████| 52.0k/52.0k [00:00<00:00, 209kB/s]\n"
     ]
    },
    {
     "data": {
      "text/plain": [
       "'data.csv'"
      ]
     },
     "execution_count": 118,
     "metadata": {},
     "output_type": "execute_result"
    }
   ],
   "source": [
    "\n",
    "file = '1yB5qSBOLl96Y563nIewKOU8RN_gsY3dO'  # Make sure it's a string\n",
    "gdown.download(f'https://drive.google.com/uc?id={file_id}', 'data.csv', quiet=False)\n",
    "file_id =\"13ejsAq76ZQfyAHPs4uCMn2jaiB6lfuDb\"\n",
    "gdown.download(f'https://drive.google.com/uc?id={file_id}','data.csv', quiet=False)\n",
    "\n",
    "file_id = \"1ZYa3fSNtxQFLtXXEml8YPtRUKKMYr5Jg\"\n",
    "gdown.download(f'https://drive.google.com/uc?id={file_id}',quiet=False)"
   ]
  },
  {
   "cell_type": "code",
   "execution_count": 119,
   "id": "e6f27fce",
   "metadata": {},
   "outputs": [],
   "source": [
    "### Task:\n",
    "\n",
    "# Is the beef consumption in Argentina significantly different from that in Bangladesh?\n",
    "\n",
    "# H₀: Mean beef consumption (Argentina) = Mean beef consumption (Bangladesh)\n",
    "\n",
    "# H₁: Mean beef consumption (Argentina) ≠ Mean beef consumption (Bangladesh)"
   ]
  },
  {
   "cell_type": "code",
   "execution_count": 120,
   "id": "7c1cbf9c",
   "metadata": {},
   "outputs": [],
   "source": [
    "from scipy import stats"
   ]
  },
  {
   "cell_type": "code",
   "execution_count": 121,
   "id": "afbb6838",
   "metadata": {},
   "outputs": [
    {
     "data": {
      "text/html": [
       "<div>\n",
       "<style scoped>\n",
       "    .dataframe tbody tr th:only-of-type {\n",
       "        vertical-align: middle;\n",
       "    }\n",
       "\n",
       "    .dataframe tbody tr th {\n",
       "        vertical-align: top;\n",
       "    }\n",
       "\n",
       "    .dataframe thead th {\n",
       "        text-align: right;\n",
       "    }\n",
       "</style>\n",
       "<table border=\"1\" class=\"dataframe\">\n",
       "  <thead>\n",
       "    <tr style=\"text-align: right;\">\n",
       "      <th></th>\n",
       "      <th>Unnamed: 0</th>\n",
       "      <th>country</th>\n",
       "      <th>food_category</th>\n",
       "      <th>consumption</th>\n",
       "      <th>co2_emission</th>\n",
       "    </tr>\n",
       "  </thead>\n",
       "  <tbody>\n",
       "    <tr>\n",
       "      <th>0</th>\n",
       "      <td>1</td>\n",
       "      <td>Argentina</td>\n",
       "      <td>pork</td>\n",
       "      <td>10.51</td>\n",
       "      <td>37.20</td>\n",
       "    </tr>\n",
       "    <tr>\n",
       "      <th>1</th>\n",
       "      <td>2</td>\n",
       "      <td>Argentina</td>\n",
       "      <td>poultry</td>\n",
       "      <td>38.66</td>\n",
       "      <td>41.53</td>\n",
       "    </tr>\n",
       "    <tr>\n",
       "      <th>2</th>\n",
       "      <td>3</td>\n",
       "      <td>Argentina</td>\n",
       "      <td>beef</td>\n",
       "      <td>55.48</td>\n",
       "      <td>1712.00</td>\n",
       "    </tr>\n",
       "    <tr>\n",
       "      <th>3</th>\n",
       "      <td>4</td>\n",
       "      <td>Argentina</td>\n",
       "      <td>lamb_goat</td>\n",
       "      <td>1.56</td>\n",
       "      <td>54.63</td>\n",
       "    </tr>\n",
       "    <tr>\n",
       "      <th>4</th>\n",
       "      <td>5</td>\n",
       "      <td>Argentina</td>\n",
       "      <td>fish</td>\n",
       "      <td>4.36</td>\n",
       "      <td>6.96</td>\n",
       "    </tr>\n",
       "  </tbody>\n",
       "</table>\n",
       "</div>"
      ],
      "text/plain": [
       "   Unnamed: 0    country food_category  consumption  co2_emission\n",
       "0           1  Argentina          pork        10.51         37.20\n",
       "1           2  Argentina       poultry        38.66         41.53\n",
       "2           3  Argentina          beef        55.48       1712.00\n",
       "3           4  Argentina     lamb_goat         1.56         54.63\n",
       "4           5  Argentina          fish         4.36          6.96"
      ]
     },
     "execution_count": 121,
     "metadata": {},
     "output_type": "execute_result"
    }
   ],
   "source": [
    "# Read the downloaded CSV file\n",
    "df = pd.read_csv('data.csv')\n",
    "df.head()"
   ]
  },
  {
   "cell_type": "code",
   "execution_count": 122,
   "id": "d8dd9f0f",
   "metadata": {},
   "outputs": [],
   "source": [
    "# Task\n",
    "# is the beef consuption in Argentina significantly diffently from that in Bangladesh"
   ]
  },
  {
   "cell_type": "code",
   "execution_count": 123,
   "id": "fbd782f5",
   "metadata": {},
   "outputs": [],
   "source": [
    "# H₀: Mean beef consumption in Argentina = mean beef consumption in Bangladash\n",
    "\n",
    "# H₁: Mean beef consumption in Argentina ≠ mean beef consumption in Banglash"
   ]
  },
  {
   "cell_type": "code",
   "execution_count": 124,
   "id": "baa12485",
   "metadata": {},
   "outputs": [
    {
     "data": {
      "text/html": [
       "<div>\n",
       "<style scoped>\n",
       "    .dataframe tbody tr th:only-of-type {\n",
       "        vertical-align: middle;\n",
       "    }\n",
       "\n",
       "    .dataframe tbody tr th {\n",
       "        vertical-align: top;\n",
       "    }\n",
       "\n",
       "    .dataframe thead th {\n",
       "        text-align: right;\n",
       "    }\n",
       "</style>\n",
       "<table border=\"1\" class=\"dataframe\">\n",
       "  <thead>\n",
       "    <tr style=\"text-align: right;\">\n",
       "      <th></th>\n",
       "      <th>Unnamed: 0</th>\n",
       "      <th>country</th>\n",
       "      <th>food_category</th>\n",
       "      <th>consumption</th>\n",
       "      <th>co2_emission</th>\n",
       "    </tr>\n",
       "  </thead>\n",
       "  <tbody>\n",
       "    <tr>\n",
       "      <th>2</th>\n",
       "      <td>3</td>\n",
       "      <td>Argentina</td>\n",
       "      <td>beef</td>\n",
       "      <td>55.48</td>\n",
       "      <td>1712.0</td>\n",
       "    </tr>\n",
       "  </tbody>\n",
       "</table>\n",
       "</div>"
      ],
      "text/plain": [
       "   Unnamed: 0    country food_category  consumption  co2_emission\n",
       "2           3  Argentina          beef        55.48        1712.0"
      ]
     },
     "execution_count": 124,
     "metadata": {},
     "output_type": "execute_result"
    }
   ],
   "source": [
    "# Select Argentina beef consumption\n",
    "arg_beef = df[(df[\"country\"]==\"Argentina\") & (df[\"food_category\"]==\"beef\")]\n",
    "arg_beef"
   ]
  },
  {
   "cell_type": "code",
   "execution_count": 125,
   "id": "b792d65c",
   "metadata": {},
   "outputs": [
    {
     "data": {
      "text/html": [
       "<div>\n",
       "<style scoped>\n",
       "    .dataframe tbody tr th:only-of-type {\n",
       "        vertical-align: middle;\n",
       "    }\n",
       "\n",
       "    .dataframe tbody tr th {\n",
       "        vertical-align: top;\n",
       "    }\n",
       "\n",
       "    .dataframe thead th {\n",
       "        text-align: right;\n",
       "    }\n",
       "</style>\n",
       "<table border=\"1\" class=\"dataframe\">\n",
       "  <thead>\n",
       "    <tr style=\"text-align: right;\">\n",
       "      <th></th>\n",
       "      <th>Unnamed: 0</th>\n",
       "      <th>country</th>\n",
       "      <th>food_category</th>\n",
       "      <th>consumption</th>\n",
       "      <th>co2_emission</th>\n",
       "    </tr>\n",
       "  </thead>\n",
       "  <tbody>\n",
       "    <tr>\n",
       "      <th>1421</th>\n",
       "      <td>1422</td>\n",
       "      <td>Bangladesh</td>\n",
       "      <td>beef</td>\n",
       "      <td>1.28</td>\n",
       "      <td>39.5</td>\n",
       "    </tr>\n",
       "  </tbody>\n",
       "</table>\n",
       "</div>"
      ],
      "text/plain": [
       "      Unnamed: 0     country food_category  consumption  co2_emission\n",
       "1421        1422  Bangladesh          beef         1.28          39.5"
      ]
     },
     "execution_count": 125,
     "metadata": {},
     "output_type": "execute_result"
    }
   ],
   "source": [
    "# Select Bangladash beef consumption\n",
    "bang_beef = df[(df[\"country\"]== \"Bangladesh\") & (df[\"food_category\"]== \"beef\")]\n",
    "bang_beef"
   ]
  },
  {
   "cell_type": "code",
   "execution_count": 126,
   "id": "382ab55e",
   "metadata": {},
   "outputs": [
    {
     "data": {
      "text/plain": [
       "np.float64(55.48)"
      ]
     },
     "execution_count": 126,
     "metadata": {},
     "output_type": "execute_result"
    }
   ],
   "source": [
    "#  getting the mean for beef consuption in Argentina\n",
    "arg_consump = arg_beef[\"consumption\"]\n",
    "arg_consump\n",
    "\n",
    "# ##\n",
    "arg_consump_mean = arg_consump.mean()\n",
    "arg_consump_mean\n"
   ]
  },
  {
   "cell_type": "code",
   "execution_count": 127,
   "id": "9d6d494b",
   "metadata": {},
   "outputs": [
    {
     "data": {
      "text/plain": [
       "np.float64(1.28)"
      ]
     },
     "execution_count": 127,
     "metadata": {},
     "output_type": "execute_result"
    }
   ],
   "source": [
    "# getting the mean consuption for beef consuption in Bangladash\n",
    "bang_consump = bang_beef[\"consumption\"]\n",
    "bang_consump\n",
    "###\n",
    "bang_consump_mean = bang_consump.mean()\n",
    "bang_consump_mean\n",
    "# Since the the mean of beef consuption in Bangladash is (1.28), this indicate that "
   ]
  },
  {
   "cell_type": "code",
   "execution_count": 128,
   "id": "8b661034",
   "metadata": {},
   "outputs": [
    {
     "data": {
      "text/plain": [
       "array([41.09051001, 61.31936345, 49.65393976, 47.77779463, 52.19530815,\n",
       "       49.40903005, 53.58323263, 56.9950775 , 60.05922338, 57.4382884 ,\n",
       "       53.2132354 , 57.03357645, 56.4391112 , 56.27207328, 55.66736687,\n",
       "       56.06034546, 58.5075488 , 53.94414255, 57.91577917, 55.22191942,\n",
       "       62.60117295, 53.97699803, 55.611075  , 48.61861903, 54.99943831,\n",
       "       50.70779907, 56.96398615, 46.54268457, 57.54828763, 58.88592421,\n",
       "       50.09649208, 50.33600321, 60.00812901, 56.61605213, 49.78768754,\n",
       "       66.49308437, 62.42573337, 56.02703822, 54.82472304, 55.49493754,\n",
       "       60.52459626, 57.11225933, 55.10468473, 57.79192741, 54.91069166,\n",
       "       44.98707617, 62.38896509, 60.63874316, 52.5545726 , 66.13503168])"
      ]
     },
     "execution_count": 128,
     "metadata": {},
     "output_type": "execute_result"
    }
   ],
   "source": [
    "rg_beef_samples = np.random.normal(loc=arg_consump_mean, scale=5, size=50)\n",
    "rg_beef_samples"
   ]
  },
  {
   "cell_type": "code",
   "execution_count": 129,
   "id": "aad470b1",
   "metadata": {},
   "outputs": [
    {
     "data": {
      "text/plain": [
       "array([-1.30644336,  0.07963999,  1.89523343, -2.75835762,  4.89396824,\n",
       "       -5.76605738, -8.76336034, -1.0891256 ,  2.7555678 , -0.9262703 ,\n",
       "        4.99065724,  4.34745178, -2.10171014,  8.47428857, -2.95330008,\n",
       "       -2.15490111,  2.71112826, -1.94360329, 13.43238688,  2.36250734,\n",
       "        7.07547934,  2.30329247, -3.55480151,  3.2499014 , -3.20558899,\n",
       "        0.55499742, -4.74491528,  4.36750584,  2.99757214,  3.1642486 ,\n",
       "       -5.13213255, -2.2844895 , -3.4971748 , -0.40415457, -2.25670851,\n",
       "       -2.97463165,  2.12905311,  2.67502156, 11.22675573, -1.45877019,\n",
       "       -2.22341911, -3.52136398,  7.30373126,  4.73542987, 12.64773095,\n",
       "       -0.67471111, -3.28637577,  1.0294749 ,  1.12558072,  9.89685868])"
      ]
     },
     "execution_count": 129,
     "metadata": {},
     "output_type": "execute_result"
    }
   ],
   "source": [
    "bg_beef_samples = np.random.normal(loc=bang_consump_mean, scale=5, size=50)\n",
    "bg_beef_samples"
   ]
  },
  {
   "cell_type": "code",
   "execution_count": 130,
   "id": "be3e3449",
   "metadata": {},
   "outputs": [
    {
     "data": {
      "text/plain": [
       "np.float64(7.482390989395361)"
      ]
     },
     "execution_count": 130,
     "metadata": {},
     "output_type": "execute_result"
    }
   ],
   "source": [
    "# One-sample t-test\n",
    "t_stat, p_val = stats.ttest_1samp(rg_beef_samples, 50)\n",
    "t_stat"
   ]
  },
  {
   "cell_type": "code",
   "execution_count": 131,
   "id": "dee51d4b",
   "metadata": {},
   "outputs": [
    {
     "name": "stdout",
     "output_type": "stream",
     "text": [
      "P-value: 1.1913793283464482e-09\n"
     ]
    }
   ],
   "source": [
    "print(\"P-value:\", p_val)"
   ]
  },
  {
   "cell_type": "markdown",
   "id": "00a27fbf",
   "metadata": {},
   "source": [
    "Interpretation\n",
    "Since p-value is (0.00000000067999), we failed to reject H₀\n",
    "\n",
    "If p < 0.05, reject H₀ → beef consumption differs significantly.\n",
    "\n",
    "\n",
    "\n",
    "\n",
    "If p ≥ 0.05, fail to reject H₀.\n"
   ]
  },
  {
   "cell_type": "code",
   "execution_count": 132,
   "id": "6ad5c4e8",
   "metadata": {},
   "outputs": [
    {
     "data": {
      "image/png": "[encoded data removed]",
      "text/plain": [
       "<Figure size 800x600 with 1 Axes>"
      ]
     },
     "metadata": {},
     "output_type": "display_data"
    }
   ],
   "source": [
    "plt.figure(figsize=(8,6))\n",
    "sns.scatterplot(x=rg_beef_samples, y=bg_beef_samples)\n",
    "plt.title(\"Consumption of beef in Argentina & Bangladesh\")\n",
    "plt.show()"
   ]
  },
  {
   "cell_type": "markdown",
   "id": "e744d15c",
   "metadata": {},
   "source": [
    "Interpretation\n",
    " From the diagram above, this indicates there is no significant difference between x=rg_beef_samples and y=bg_beef_samples"
   ]
  }
 ],
 "metadata": {
  "kernelspec": {
   "display_name": "Python 3",
   "language": "python",
   "name": "python3"
  },
  "language_info": {
   "codemirror_mode": {
    "name": "ipython",
    "version": 3
   },
   "file_extension": ".py",
   "mimetype": "text/x-python",
   "name": "python",
   "nbconvert_exporter": "python",
   "pygments_lexer": "ipython3",
   "version": "3.13.7"
  }
 },
 "nbformat": 4,
 "nbformat_minor": 5
}
