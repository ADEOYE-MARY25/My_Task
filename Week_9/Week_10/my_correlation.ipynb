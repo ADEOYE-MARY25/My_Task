{
 "cells": [
  {
   "cell_type": "markdown",
   "id": "b1c470db",
   "metadata": {},
   "source": [
    "1. Correlation"
   ]
  },
  {
   "cell_type": "markdown",
   "id": "a71c637d",
   "metadata": {},
   "source": [
    "Correlation is a statistical measure that shows how two variables move together. It tells us\n",
    "\n",
    "1. Direction- Do they move in the same direction (positive) or opposite (negative)?\n",
    "\n",
    "2. Strength- How strongly they are related (weak, moderate, or strong).\n",
    "\n",
    "The most common measure is **Pearson’s correlation coefficient** (`r`).\n",
    "\n",
    "\n",
    "`r` ranges between -1 and +1.\n"
   ]
  },
  {
   "cell_type": "markdown",
   "id": "1a47fa0c",
   "metadata": {},
   "source": [
    "**Positive Correlation (r > 0)**\n",
    "\n",
    "- As one variable increases, the other also increases.\n",
    "\n",
    "- Example: More study hours - Higher exam scores."
   ]
  },
  {
   "cell_type": "markdown",
   "id": "b4115f24",
   "metadata": {},
   "source": [
    "**More Examples of positive Correlation**\n",
    "\n",
    "1. Study hours ⬆  Exam score ⬆\n",
    "\n",
    "2. Sleep hours ⬆  Concentration ⬆\n",
    "\n",
    "3. Class attendance ⬆  Understanding ⬆\n",
    "\n",
    "4. Practice questions ⬆  Test performance ⬆\n",
    "\n",
    "5. Participation in group study ⬆  Grades ⬆\n",
    "\n",
    "6. Teacher feedback ⬆  Student improvement ⬆\n",
    "\n",
    "7. Number of revision sessions ⬆  Retention ⬆\n",
    "\n",
    "8. Motivation ⬆  Academic achievement ⬆\n",
    "\n",
    "9. Lecture note reviews ⬆  Recall in exams ⬆\n",
    "\n",
    "10. Library hours ⬆  GPA ⬆"
   ]
  },
  {
   "cell_type": "markdown",
   "id": "c5f4af70",
   "metadata": {},
   "source": [
    "**Negative Correlation (r < 0)**\n",
    "\n",
    "- As one variable increases, the other decreases.\n",
    "\n",
    "- Example: More part time job hours - Lower exam scores."
   ]
  },
  {
   "cell_type": "markdown",
   "id": "206aca4c",
   "metadata": {},
   "source": [
    "**More Examples of Negative Correlation**\n",
    "\n",
    "1. Part-time job hours ⬆  Exam score ⬇\n",
    "\n",
    "2. Extracurricular hours ⬆  Study time ⬇\n",
    "\n",
    "3. Screen time (TV/social media) ⬆  Academic performance ⬇\n",
    "\n",
    "4. Stress level ⬆  Sleep quality ⬇\n",
    "\n",
    "5. Absenteeism ⬆  Grades ⬇\n",
    "\n",
    "6. Late-night gaming ⬆  Morning alertness ⬇\n",
    "\n",
    "7. Procrastination ⬆  Assignment quality ⬇\n",
    "\n",
    "8. Fatigue ⬆  Productivity ⬇\n",
    "\n",
    "9. Alcohol consumption ⬆  Cognitive performance ⬇\n",
    "\n",
    "10. Distractions in study ⬆  Exam score ⬇"
   ]
  },
  {
   "cell_type": "markdown",
   "id": "db941359",
   "metadata": {},
   "source": [
    "**Zero/No Correlation (r ≈ 0)**\n",
    "\n",
    "- No clear relationship.\n",
    "\n",
    "- Example: Shoe size - Exam scores."
   ]
  },
  {
   "cell_type": "markdown",
   "id": "e1981e6d",
   "metadata": {},
   "source": [
    "**Interpreting the Strength using the correlation Coefficient**\n",
    "\n",
    "`0.0 – 0.2  Very weak (almost no relationship)`\n",
    "\n",
    "`0.2 – 0.4  Weak`\n",
    "\n",
    "`0.4 – 0.6  Moderate`\n",
    "\n",
    "`0.6 – 0.8  Strong`\n",
    "\n",
    "`0.8 – 1.0 →Very strong`\n",
    "\n",
    "Example: If correlation between study hours and scores is 0.85, it’s a very strong positive correlation."
   ]
  },
  {
   "cell_type": "markdown",
   "id": "05454ae9",
   "metadata": {},
   "source": [
    "`Correlation ≠ Causation`\n",
    "\n",
    "Just because two things move together doesn’t mean one causes the other."
   ]
  },
  {
   "cell_type": "markdown",
   "id": "cf5eb664",
   "metadata": {},
   "source": [
    "**Misleading Correlation**\n",
    "\n",
    "Ice cream sales ↑ and drowning deaths ↑ in summer\n",
    "\n",
    " - They are correlated.\n",
    "\n",
    " - But ice cream doesn’t cause drowning.\n",
    "\n",
    "The real reason is temperature (summer season people tend to go for swimming anf leak more icecreams).\n",
    "\n",
    "This leads us to two key issue Which are;\n",
    "\n",
    "1. Spurious Correlation\n",
    "2. Confounding Variables"
   ]
  },
  {
   "cell_type": "markdown",
   "id": "9b393295",
   "metadata": {},
   "source": [
    "**Spurious Correlation**\n",
    "\n",
    "A correlation that looks real but happens by coincidence or due to a hidden factor.\n",
    "\n",
    "Example: Worldwide cheese consumption correlates with the number of people who died by bedsheet entanglement. (Completely nonsense, but statistically correlated)."
   ]
  },
  {
   "cell_type": "markdown",
   "id": "b1d2105c",
   "metadata": {},
   "source": [
    "**Confounding Variables**\n",
    "\n",
    "A third variable that influences both the independent and dependent variable.\n",
    "\n",
    "Example:\n",
    "\n",
    "Students with higher motivation both study more and score higher.\n",
    "\n",
    "So it may look like study hours led to higher score, but motivation is the confounder."
   ]
  },
  {
   "cell_type": "markdown",
   "id": "3fcfa27b",
   "metadata": {},
   "source": [
    "**Why Start with Correlation Before Regression?**\n",
    "\n",
    "Correlation is the first check, “Are these two variables related at all?”\n",
    "\n",
    "If yes,  regression goes further, “By how much? Is it significant? What happens when we add other factors?”"
   ]
  },
  {
   "cell_type": "code",
   "execution_count": 1,
   "id": "cc765fa0",
   "metadata": {},
   "outputs": [],
   "source": [
    "import pandas as pd\n",
    "import numpy as np\n",
    "import matplotlib.pyplot as plt\n",
    "import seaborn as sns\n",
    "# set seed for reproductibility\n",
    "np.random .seed(234)"
   ]
  },
  {
   "cell_type": "code",
   "execution_count": 2,
   "id": "05907928",
   "metadata": {},
   "outputs": [],
   "source": [
    "# create synthetic dataset\n",
    "students = 40\n",
    "study_hours = np.random.randint(1, 10, students)     # 1 to 9 hours study\n",
    "job_hours = np.random.randint(0, 15, students)       # 0 to 14 hours job\n",
    "sleep_hours = np.random.randint(4, 9, students)      # 4 to 8 hours sleep\n",
    "extracurricular = np.random.randint(0, 6, students)  # 0 to 5 hrs activities\n",
    "\n",
    "# Exam  score: positively influence by study & sleep, negatively by job & extra activities\n",
    "exam_score = (40\n",
    "              + 5*study_hours        # strong positive\n",
    "              + 2*sleep_hours        # mild  positive\n",
    "              -3*job_hours           # strong negative\n",
    "              -1*extracurricular     # mild negative\n",
    "              + np.random.randint(-5,5,students))  # noise\n",
    "\n",
    "data = pd.DataFrame({\n",
    "    'study Hours' : study_hours,\n",
    "    'Job Hour': job_hours,\n",
    "    'Sleep Hours': sleep_hours,\n",
    "    'extracurricular Hours': extracurricular,\n",
    "    'Exam score': exam_score\n",
    "})"
   ]
  },
  {
   "cell_type": "code",
   "execution_count": 3,
   "id": "e30056eb",
   "metadata": {},
   "outputs": [
    {
     "data": {
      "text/html": [
       "<div>\n",
       "<style scoped>\n",
       "    .dataframe tbody tr th:only-of-type {\n",
       "        vertical-align: middle;\n",
       "    }\n",
       "\n",
       "    .dataframe tbody tr th {\n",
       "        vertical-align: top;\n",
       "    }\n",
       "\n",
       "    .dataframe thead th {\n",
       "        text-align: right;\n",
       "    }\n",
       "</style>\n",
       "<table border=\"1\" class=\"dataframe\">\n",
       "  <thead>\n",
       "    <tr style=\"text-align: right;\">\n",
       "      <th></th>\n",
       "      <th>study Hours</th>\n",
       "      <th>Job Hour</th>\n",
       "      <th>Sleep Hours</th>\n",
       "      <th>extracurricular Hours</th>\n",
       "      <th>Exam score</th>\n",
       "    </tr>\n",
       "  </thead>\n",
       "  <tbody>\n",
       "    <tr>\n",
       "      <th>0</th>\n",
       "      <td>9</td>\n",
       "      <td>10</td>\n",
       "      <td>4</td>\n",
       "      <td>2</td>\n",
       "      <td>56</td>\n",
       "    </tr>\n",
       "    <tr>\n",
       "      <th>1</th>\n",
       "      <td>5</td>\n",
       "      <td>9</td>\n",
       "      <td>5</td>\n",
       "      <td>1</td>\n",
       "      <td>46</td>\n",
       "    </tr>\n",
       "    <tr>\n",
       "      <th>2</th>\n",
       "      <td>2</td>\n",
       "      <td>0</td>\n",
       "      <td>6</td>\n",
       "      <td>3</td>\n",
       "      <td>57</td>\n",
       "    </tr>\n",
       "    <tr>\n",
       "      <th>3</th>\n",
       "      <td>4</td>\n",
       "      <td>10</td>\n",
       "      <td>6</td>\n",
       "      <td>5</td>\n",
       "      <td>37</td>\n",
       "    </tr>\n",
       "    <tr>\n",
       "      <th>4</th>\n",
       "      <td>8</td>\n",
       "      <td>8</td>\n",
       "      <td>7</td>\n",
       "      <td>1</td>\n",
       "      <td>69</td>\n",
       "    </tr>\n",
       "  </tbody>\n",
       "</table>\n",
       "</div>"
      ],
      "text/plain": [
       "   study Hours  Job Hour  Sleep Hours  extracurricular Hours  Exam score\n",
       "0            9        10            4                      2          56\n",
       "1            5         9            5                      1          46\n",
       "2            2         0            6                      3          57\n",
       "3            4        10            6                      5          37\n",
       "4            8         8            7                      1          69"
      ]
     },
     "execution_count": 3,
     "metadata": {},
     "output_type": "execute_result"
    }
   ],
   "source": [
    "data.head()"
   ]
  },
  {
   "cell_type": "code",
   "execution_count": 4,
   "id": "32882d42",
   "metadata": {},
   "outputs": [
    {
     "data": {
      "text/html": [
       "<div>\n",
       "<style scoped>\n",
       "    .dataframe tbody tr th:only-of-type {\n",
       "        vertical-align: middle;\n",
       "    }\n",
       "\n",
       "    .dataframe tbody tr th {\n",
       "        vertical-align: top;\n",
       "    }\n",
       "\n",
       "    .dataframe thead th {\n",
       "        text-align: right;\n",
       "    }\n",
       "</style>\n",
       "<table border=\"1\" class=\"dataframe\">\n",
       "  <thead>\n",
       "    <tr style=\"text-align: right;\">\n",
       "      <th></th>\n",
       "      <th>study Hours</th>\n",
       "      <th>Job Hour</th>\n",
       "      <th>Sleep Hours</th>\n",
       "      <th>extracurricular Hours</th>\n",
       "      <th>Exam score</th>\n",
       "    </tr>\n",
       "  </thead>\n",
       "  <tbody>\n",
       "    <tr>\n",
       "      <th>study Hours</th>\n",
       "      <td>1.000000</td>\n",
       "      <td>-0.136551</td>\n",
       "      <td>-0.006383</td>\n",
       "      <td>-0.114442</td>\n",
       "      <td>0.694048</td>\n",
       "    </tr>\n",
       "    <tr>\n",
       "      <th>Job Hour</th>\n",
       "      <td>-0.136551</td>\n",
       "      <td>1.000000</td>\n",
       "      <td>0.188992</td>\n",
       "      <td>0.209991</td>\n",
       "      <td>-0.782525</td>\n",
       "    </tr>\n",
       "    <tr>\n",
       "      <th>Sleep Hours</th>\n",
       "      <td>-0.006383</td>\n",
       "      <td>0.188992</td>\n",
       "      <td>1.000000</td>\n",
       "      <td>0.158029</td>\n",
       "      <td>-0.035653</td>\n",
       "    </tr>\n",
       "    <tr>\n",
       "      <th>extracurricular Hours</th>\n",
       "      <td>-0.114442</td>\n",
       "      <td>0.209991</td>\n",
       "      <td>0.158029</td>\n",
       "      <td>1.000000</td>\n",
       "      <td>-0.276837</td>\n",
       "    </tr>\n",
       "    <tr>\n",
       "      <th>Exam score</th>\n",
       "      <td>0.694048</td>\n",
       "      <td>-0.782525</td>\n",
       "      <td>-0.035653</td>\n",
       "      <td>-0.276837</td>\n",
       "      <td>1.000000</td>\n",
       "    </tr>\n",
       "  </tbody>\n",
       "</table>\n",
       "</div>"
      ],
      "text/plain": [
       "                       study Hours  Job Hour  Sleep Hours  \\\n",
       "study Hours               1.000000 -0.136551    -0.006383   \n",
       "Job Hour                 -0.136551  1.000000     0.188992   \n",
       "Sleep Hours              -0.006383  0.188992     1.000000   \n",
       "extracurricular Hours    -0.114442  0.209991     0.158029   \n",
       "Exam score                0.694048 -0.782525    -0.035653   \n",
       "\n",
       "                       extracurricular Hours  Exam score  \n",
       "study Hours                        -0.114442    0.694048  \n",
       "Job Hour                            0.209991   -0.782525  \n",
       "Sleep Hours                         0.158029   -0.035653  \n",
       "extracurricular Hours               1.000000   -0.276837  \n",
       "Exam score                         -0.276837    1.000000  "
      ]
     },
     "execution_count": 4,
     "metadata": {},
     "output_type": "execute_result"
    }
   ],
   "source": [
    "# Lets compute the correlation coefficients for each data feature\n",
    "#\n",
    "\n",
    "corr_coefficients = data.corr()\n",
    "corr_coefficients"
   ]
  },
  {
   "cell_type": "code",
   "execution_count": 5,
   "id": "f2a54373",
   "metadata": {},
   "outputs": [
    {
     "data": {
      "text/plain": [
       "Index(['study Hours', 'Job Hour', 'Sleep Hours', 'extracurricular Hours',\n",
       "       'Exam score'],\n",
       "      dtype='object')"
      ]
     },
     "execution_count": 5,
     "metadata": {},
     "output_type": "execute_result"
    }
   ],
   "source": [
    "data.columns"
   ]
  },
  {
   "cell_type": "code",
   "execution_count": 6,
   "id": "d32cff80",
   "metadata": {},
   "outputs": [],
   "source": [
    "# Lets plot the relationship on a scatter plot"
   ]
  },
  {
   "cell_type": "code",
   "execution_count": null,
   "id": "3c79d09f",
   "metadata": {},
   "outputs": [],
   "source": [
    "# Compute correlation matrix first (this  defines 'corr')\n",
    "corr = data[['study Hours', 'Job Hours', 'Exam score']].corr()\n",
    "\n",
    "# plot: positive and Negative examples\n",
    "plt.figure(figsize=(12,5))\n",
    "\n",
    "# positive correlation : study vs score\n",
    "plt.subplot(1,2,1)\n",
    "sns.scatterplot(x='study_Hours', y='Exam Score', data=data, color='blue')\n",
    "plt.title(\"positive correlation:\\nstudy Hours vs Exam score\", fontsize=14)\n",
    "plt.xlabel(\"\")"
   ]
  }
 ],
 "metadata": {
  "kernelspec": {
   "display_name": "Python 3",
   "language": "python",
   "name": "python3"
  },
  "language_info": {
   "codemirror_mode": {
    "name": "ipython",
    "version": 3
   },
   "file_extension": ".py",
   "mimetype": "text/x-python",
   "name": "python",
   "nbconvert_exporter": "python",
   "pygments_lexer": "ipython3",
   "version": "3.13.7"
  }
 },
 "nbformat": 4,
 "nbformat_minor": 5
}
