{
 "cells": [
  {
   "cell_type": "code",
   "execution_count": 1,
   "id": "132c322a",
   "metadata": {},
   "outputs": [],
   "source": [
    "import pandas as pd\n"
   ]
  },
  {
   "cell_type": "code",
   "execution_count": 7,
   "id": "0df19261",
   "metadata": {},
   "outputs": [],
   "source": [
    "# file_path = r\"C:\\Users\\user322\\Desktop\\red-wine-quality.ipynb\"\n",
    "# data = pd.read_csv('/kaggle/input/red-wine-quality-cortez-et-al-2009/winequality-red.csv')\n"
   ]
  },
  {
   "cell_type": "markdown",
   "id": "f7f8f3a6",
   "metadata": {},
   "source": [
    "volatile acidity\n",
    "the amount of acetic acid in wine, which at too high of levels can lead to an unpleasant, vinegar tast\n",
    "\n"
   ]
  },
  {
   "cell_type": "markdown",
   "id": "087c6426",
   "metadata": {},
   "source": [
    "\n",
    "For more information, read [Cortez et al., 2009].\n",
    "Input variables (based on physicochemical tests):\n",
    "1 - fixed acidity\n",
    "\n",
    "\n",
    "2 - volatile acidity\n",
    "\n",
    "\n",
    "3 - citric acid\n",
    "\n",
    "\n",
    "4 - residual sugar\n",
    "\n",
    "\n",
    "\n",
    "\n",
    "6 - free sulfur dioxide\n",
    "\n",
    "\n",
    "7 - total sulfur dioxide\n",
    "\n",
    "\n",
    "8 - density\n",
    "\n",
    "\n",
    "9 - pH\n",
    "\n",
    "\n",
    "10 - sulphates\n",
    "\n",
    "\n",
    "11 - alcohol\n",
    "\n",
    "\n",
    "Output variable (based on sensory data):\n",
    "\n",
    "\n",
    "12 - quality (score between 0 and 10)"
   ]
  },
  {
   "cell_type": "code",
   "execution_count": null,
   "id": "29a7efc9",
   "metadata": {},
   "outputs": [],
   "source": []
  }
 ],
 "metadata": {
  "kernelspec": {
   "display_name": "Python 3",
   "language": "python",
   "name": "python3"
  },
  "language_info": {
   "codemirror_mode": {
    "name": "ipython",
    "version": 3
   },
   "file_extension": ".py",
   "mimetype": "text/x-python",
   "name": "python",
   "nbconvert_exporter": "python",
   "pygments_lexer": "ipython3",
   "version": "3.13.7"
  }
 },
 "nbformat": 4,
 "nbformat_minor": 5
}
